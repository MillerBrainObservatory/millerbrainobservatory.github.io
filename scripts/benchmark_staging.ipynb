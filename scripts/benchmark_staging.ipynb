{
 "cells": [
  {
   "cell_type": "markdown",
   "metadata": {},
   "source": [
    "# I/O Benchmarking: Network and Local Storage\n",
    "\n",
    "## Test Scenarios\n",
    "\n",
    "1. **Network → Network**: Read from `\\\\rbo-s1`, write back to `\\\\rbo-s1`\n",
    "2. **Network → Local**: Read from `\\\\rbo-s1`, write to local NVMe (`RBO-W2 @ D://demo//staging`)\n",
    "3. **Local → Local**: Copy to local first, then read/write locally\n",
    "4. **Parameter Effects**: Test parameters (fix_phase, use_fft, register_z, compression, sharding, file-size)\n",
    "\n",
    "## Key Questions\n",
    "\n",
    "- Is it faster to extract directly to network or local storage?\n",
    "- Does copying raw files to local storage first improve total workflow time?\n",
    "- How much do processing parameters affect I/O vs computation time?\n",
    "- Which file format (`.bin`, `.tiff`, `.zarr`) is fastest for each scenario?"
   ]
  },
  {
   "cell_type": "code",
   "execution_count": 1,
   "metadata": {},
   "outputs": [],
   "source": [
    "# Imports\n",
    "from pathlib import Path\n",
    "import numpy as np\n",
    "import time\n",
    "import shutil\n",
    "from datetime import datetime\n",
    "import pandas as pd\n",
    "import matplotlib.pyplot as plt\n",
    "import seaborn as sns\n",
    "\n",
    "import mbo_utilities as mbo"
   ]
  },
  {
   "cell_type": "markdown",
   "metadata": {},
   "source": [
    "## Configuration"
   ]
  },
  {
   "cell_type": "code",
   "execution_count": 2,
   "metadata": {},
   "outputs": [
    {
     "name": "stdout",
     "output_type": "stream",
     "text": [
      "Network path: \\\\rbo-s1\\S1_DATA\\lbm\\demo_user\n",
      "Local path: D:\\demo\\staging\n",
      "Network path exists: True\n",
      "Local path exists: True\n"
     ]
    }
   ],
   "source": [
    "# Storage paths\n",
    "NETWORK_PATH = Path(r\"\\\\rbo-s1\\S1_DATA\\lbm\\demo_user\")\n",
    "LOCAL_PATH = Path(r\"D:\\demo\\staging\")\n",
    "\n",
    "# Source data\n",
    "RAW_TIFFS_NETWORK = NETWORK_PATH / \"raw_scanimage_tiffs\"\n",
    "RAW_TIFFS_LOCAL = LOCAL_PATH / \"raw_scanimage_tiffs\"\n",
    "\n",
    "# Output directories\n",
    "OUTPUT_NETWORK = NETWORK_PATH / \"benchmark_output\"\n",
    "OUTPUT_LOCAL = LOCAL_PATH / \"benchmark_output\"\n",
    "\n",
    "# Create directories\n",
    "LOCAL_PATH.mkdir(parents=True, exist_ok=True)\n",
    "RAW_TIFFS_LOCAL.mkdir(parents=True, exist_ok=True)\n",
    "OUTPUT_NETWORK.mkdir(parents=True, exist_ok=True)\n",
    "OUTPUT_LOCAL.mkdir(parents=True, exist_ok=True)\n",
    "\n",
    "print(f\"Network path: {NETWORK_PATH}\")\n",
    "print(f\"Local path: {LOCAL_PATH}\")\n",
    "print(f\"Network path exists: {NETWORK_PATH.exists()}\")\n",
    "print(f\"Local path exists: {LOCAL_PATH.exists()}\")"
   ]
  },
  {
   "cell_type": "markdown",
   "metadata": {},
   "source": [
    "## Test Parameters\n",
    "\n",
    "Define different parameter combinations to test"
   ]
  },
  {
   "cell_type": "code",
   "execution_count": 3,
   "metadata": {},
   "outputs": [
    {
     "name": "stdout",
     "output_type": "stream",
     "text": [
      "Parameter sets to test:\n",
      "  minimal: No processing (fastest)\n",
      "  phase_only: Scan-phase correction only\n",
      "  phase_fft: FFT scan-phase correction\n",
      "  full: Full processing pipeline\n",
      "\n",
      "File formats: ['.bin', '.tiff', '.zarr']\n",
      "Test planes: [6, 7, 8]\n",
      "Test frames: 1000\n"
     ]
    }
   ],
   "source": [
    "# File formats to test\n",
    "FILE_FORMATS = ['.bin', '.tiff', '.zarr']\n",
    "\n",
    "# Processing parameter sets\n",
    "PARAM_SETS = {\n",
    "    'minimal': {\n",
    "        'fix_phase': False,\n",
    "        'use_fft': False,\n",
    "        'register_z': False,\n",
    "        'description': 'No processing (fastest)'\n",
    "    },\n",
    "    'phase_only': {\n",
    "        'fix_phase': True,\n",
    "        'use_fft': False,\n",
    "        'register_z': False,\n",
    "        'description': 'Scan-phase correction only'\n",
    "    },\n",
    "    'phase_fft': {\n",
    "        'fix_phase': True,\n",
    "        'use_fft': True,\n",
    "        'register_z': False,\n",
    "        'description': 'FFT scan-phase correction'\n",
    "    },\n",
    "    'full': {\n",
    "        'fix_phase': True,\n",
    "        'use_fft': True,\n",
    "        'register_z': True,\n",
    "        'description': 'Full processing pipeline'\n",
    "    }\n",
    "}\n",
    "\n",
    "# Subset of planes to extract (for faster testing)\n",
    "TEST_PLANES = [6, 7, 8]  # Test with 3 planes\n",
    "TEST_FRAMES = 1000  # Number of frames to extract\n",
    "\n",
    "print(\"Parameter sets to test:\")\n",
    "for name, params in PARAM_SETS.items():\n",
    "    print(f\"  {name}: {params['description']}\")\n",
    "print(f\"\\nFile formats: {FILE_FORMATS}\")\n",
    "print(f\"Test planes: {TEST_PLANES}\")\n",
    "print(f\"Test frames: {TEST_FRAMES}\")"
   ]
  },
  {
   "cell_type": "markdown",
   "metadata": {},
   "source": [
    "## Utility Functions"
   ]
  },
  {
   "cell_type": "code",
   "execution_count": 4,
   "metadata": {},
   "outputs": [
    {
     "name": "stdout",
     "output_type": "stream",
     "text": [
      "Utility functions loaded\n"
     ]
    }
   ],
   "source": [
    "def get_directory_size(path):\n",
    "    \"\"\"Calculate total size of directory in MB\"\"\"\n",
    "    total_size = 0\n",
    "    for item in Path(path).rglob('*'):\n",
    "        if item.is_file():\n",
    "            total_size += item.stat().st_size\n",
    "    return total_size / (1024 * 1024)  # Convert to MB\n",
    "\n",
    "def time_operation(func, *args, **kwargs):\n",
    "    \"\"\"Time a function execution\"\"\"\n",
    "    start_time = time.time()\n",
    "    result = func(*args, **kwargs)\n",
    "    elapsed_time = time.time() - start_time\n",
    "    return result, elapsed_time\n",
    "\n",
    "def copy_files_timed(src, dst):\n",
    "    \"\"\"Copy files and return time taken\"\"\"\n",
    "    start_time = time.time()\n",
    "    if dst.exists():\n",
    "        shutil.rmtree(dst)\n",
    "    shutil.copytree(src, dst)\n",
    "    elapsed_time = time.time() - start_time\n",
    "    size_mb = get_directory_size(dst)\n",
    "    return elapsed_time, size_mb\n",
    "\n",
    "def cleanup_output(path):\n",
    "    \"\"\"Clean up output directory\"\"\"\n",
    "    if path.exists():\n",
    "        shutil.rmtree(path)\n",
    "    path.mkdir(parents=True, exist_ok=True)\n",
    "\n",
    "print(\"Utility functions loaded\")"
   ]
  },
  {
   "cell_type": "markdown",
   "metadata": {},
   "source": [
    "## Benchmark 1: Network → Network\n",
    "\n",
    "Read from network storage, write back to network storage"
   ]
  },
  {
   "cell_type": "code",
   "execution_count": 5,
   "metadata": {},
   "outputs": [
    {
     "name": "stdout",
     "output_type": "stream",
     "text": [
      "Found 50 TIFF files on network\n",
      "\n",
      "Testing: minimal → .bin\n"
     ]
    },
    {
     "data": {
      "application/vnd.jupyter.widget-view+json": {
       "model_id": "16a8c21b3caa47b29c9ae8fa3d475df7",
       "version_major": 2,
       "version_minor": 0
      },
      "text/plain": [
       "Counting frames:   0%|          | 0/50 [00:00<?, ?it/s]"
      ]
     },
     "metadata": {},
     "output_type": "display_data"
    },
    {
     "data": {
      "application/vnd.jupyter.widget-view+json": {
       "model_id": "19a1e1066b3f4997ba89452359e38f1d",
       "version_major": 2,
       "version_minor": 0
      },
      "text/plain": [
       "Saving data_raw.bin:   0%|          | 0/20 [00:00<?, ?it/s]"
      ]
     },
     "metadata": {},
     "output_type": "display_data"
    },
    {
     "data": {
      "application/vnd.jupyter.widget-view+json": {
       "model_id": "71a30898ea614029a681c2d29c14abdc",
       "version_major": 2,
       "version_minor": 0
      },
      "text/plain": [
       "Saving data_raw.bin:   0%|          | 0/20 [00:00<?, ?it/s]"
      ]
     },
     "metadata": {},
     "output_type": "display_data"
    },
    {
     "data": {
      "application/vnd.jupyter.widget-view+json": {
       "model_id": "f05ac6c338624923a12af9420ac981df",
       "version_major": 2,
       "version_minor": 0
      },
      "text/plain": [
       "Saving data_raw.bin:   0%|          | 0/20 [00:00<?, ?it/s]"
      ]
     },
     "metadata": {},
     "output_type": "display_data"
    },
    {
     "name": "stdout",
     "output_type": "stream",
     "text": [
      "  Time: 10.70s, Size: 1148.50MB, Throughput: 107.31MB/s\n",
      "\n",
      "Testing: minimal → .tiff\n"
     ]
    },
    {
     "data": {
      "application/vnd.jupyter.widget-view+json": {
       "model_id": "fe4357c2f0d44f2db686e8d32ee15739",
       "version_major": 2,
       "version_minor": 0
      },
      "text/plain": [
       "Counting frames:   0%|          | 0/50 [00:00<?, ?it/s]"
      ]
     },
     "metadata": {},
     "output_type": "display_data"
    },
    {
     "data": {
      "application/vnd.jupyter.widget-view+json": {
       "model_id": "9b0495223d5f492e8644587c143f3f12",
       "version_major": 2,
       "version_minor": 0
      },
      "text/plain": [
       "Saving plane06_stitched.tiff:   0%|          | 0/20 [00:00<?, ?it/s]"
      ]
     },
     "metadata": {},
     "output_type": "display_data"
    },
    {
     "data": {
      "application/vnd.jupyter.widget-view+json": {
       "model_id": "407116748c59452392f3b42d07d2c216",
       "version_major": 2,
       "version_minor": 0
      },
      "text/plain": [
       "Saving plane07_stitched.tiff:   0%|          | 0/20 [00:00<?, ?it/s]"
      ]
     },
     "metadata": {},
     "output_type": "display_data"
    },
    {
     "data": {
      "application/vnd.jupyter.widget-view+json": {
       "model_id": "bdb52cd4fe394e46bc1e7bed51afbafb",
       "version_major": 2,
       "version_minor": 0
      },
      "text/plain": [
       "Saving plane08_stitched.tiff:   0%|          | 0/20 [00:00<?, ?it/s]"
      ]
     },
     "metadata": {},
     "output_type": "display_data"
    },
    {
     "name": "stdout",
     "output_type": "stream",
     "text": [
      "  Time: 7.05s, Size: 1149.30MB, Throughput: 162.91MB/s\n",
      "\n",
      "Testing: minimal → .zarr\n"
     ]
    },
    {
     "data": {
      "application/vnd.jupyter.widget-view+json": {
       "model_id": "caf474017df34afc955d9ecf32f6b485",
       "version_major": 2,
       "version_minor": 0
      },
      "text/plain": [
       "Counting frames:   0%|          | 0/50 [00:00<?, ?it/s]"
      ]
     },
     "metadata": {},
     "output_type": "display_data"
    },
    {
     "data": {
      "application/vnd.jupyter.widget-view+json": {
       "model_id": "f0d34ffff84542ad906a1407a9819ba1",
       "version_major": 2,
       "version_minor": 0
      },
      "text/plain": [
       "Saving plane06_stitched.zarr:   0%|          | 0/20 [00:00<?, ?it/s]"
      ]
     },
     "metadata": {},
     "output_type": "display_data"
    },
    {
     "data": {
      "application/vnd.jupyter.widget-view+json": {
       "model_id": "555ee065dea8404c9900fee2f53972fb",
       "version_major": 2,
       "version_minor": 0
      },
      "text/plain": [
       "Saving plane07_stitched.zarr:   0%|          | 0/20 [00:00<?, ?it/s]"
      ]
     },
     "metadata": {},
     "output_type": "display_data"
    },
    {
     "data": {
      "application/vnd.jupyter.widget-view+json": {
       "model_id": "8ab54a4e46dd4ae9aaacf6851c1812a0",
       "version_major": 2,
       "version_minor": 0
      },
      "text/plain": [
       "Saving plane08_stitched.zarr:   0%|          | 0/20 [00:00<?, ?it/s]"
      ]
     },
     "metadata": {},
     "output_type": "display_data"
    },
    {
     "name": "stdout",
     "output_type": "stream",
     "text": [
      "  Time: 65.76s, Size: 46.32MB, Throughput: 0.70MB/s\n",
      "\n",
      "Testing: minimal → .h5\n"
     ]
    },
    {
     "data": {
      "application/vnd.jupyter.widget-view+json": {
       "model_id": "0add05d2267242848dd4240b03efa215",
       "version_major": 2,
       "version_minor": 0
      },
      "text/plain": [
       "Counting frames:   0%|          | 0/50 [00:00<?, ?it/s]"
      ]
     },
     "metadata": {},
     "output_type": "display_data"
    },
    {
     "data": {
      "application/vnd.jupyter.widget-view+json": {
       "model_id": "2af9658d273b44acaeb8c8fbc4202200",
       "version_major": 2,
       "version_minor": 0
      },
      "text/plain": [
       "Saving plane06_stitched.h5:   0%|          | 0/20 [00:00<?, ?it/s]"
      ]
     },
     "metadata": {},
     "output_type": "display_data"
    },
    {
     "data": {
      "application/vnd.jupyter.widget-view+json": {
       "model_id": "f52c593774ba467aae5640e96b525b08",
       "version_major": 2,
       "version_minor": 0
      },
      "text/plain": [
       "Saving plane07_stitched.h5:   0%|          | 0/20 [00:00<?, ?it/s]"
      ]
     },
     "metadata": {},
     "output_type": "display_data"
    },
    {
     "data": {
      "application/vnd.jupyter.widget-view+json": {
       "model_id": "32fa4483aca847868f396feb616c3216",
       "version_major": 2,
       "version_minor": 0
      },
      "text/plain": [
       "Saving plane08_stitched.h5:   0%|          | 0/20 [00:00<?, ?it/s]"
      ]
     },
     "metadata": {},
     "output_type": "display_data"
    },
    {
     "name": "stdout",
     "output_type": "stream",
     "text": [
      "  Time: 6.61s, Size: 1148.72MB, Throughput: 173.71MB/s\n",
      "\n",
      "Testing: phase_only → .bin\n"
     ]
    },
    {
     "data": {
      "application/vnd.jupyter.widget-view+json": {
       "model_id": "4ace403d9edf4503a5bf4cc7e97164a6",
       "version_major": 2,
       "version_minor": 0
      },
      "text/plain": [
       "Counting frames:   0%|          | 0/50 [00:00<?, ?it/s]"
      ]
     },
     "metadata": {},
     "output_type": "display_data"
    },
    {
     "data": {
      "application/vnd.jupyter.widget-view+json": {
       "model_id": "d2fefc8cce6a4c909dc15f79ed8edbde",
       "version_major": 2,
       "version_minor": 0
      },
      "text/plain": [
       "Saving data_raw.bin:   0%|          | 0/20 [00:00<?, ?it/s]"
      ]
     },
     "metadata": {},
     "output_type": "display_data"
    },
    {
     "data": {
      "application/vnd.jupyter.widget-view+json": {
       "model_id": "91b0d38ca4cb42bfae368c58de0fd873",
       "version_major": 2,
       "version_minor": 0
      },
      "text/plain": [
       "Saving data_raw.bin:   0%|          | 0/20 [00:00<?, ?it/s]"
      ]
     },
     "metadata": {},
     "output_type": "display_data"
    },
    {
     "data": {
      "application/vnd.jupyter.widget-view+json": {
       "model_id": "86d7d02ed0bf4209a2b1c1b25881f20e",
       "version_major": 2,
       "version_minor": 0
      },
      "text/plain": [
       "Saving data_raw.bin:   0%|          | 0/20 [00:00<?, ?it/s]"
      ]
     },
     "metadata": {},
     "output_type": "display_data"
    },
    {
     "name": "stdout",
     "output_type": "stream",
     "text": [
      "  Time: 9.35s, Size: 1148.50MB, Throughput: 122.81MB/s\n",
      "\n",
      "Testing: phase_only → .tiff\n"
     ]
    },
    {
     "data": {
      "application/vnd.jupyter.widget-view+json": {
       "model_id": "5c96fc3d86364c8bae0fde9e6173c80b",
       "version_major": 2,
       "version_minor": 0
      },
      "text/plain": [
       "Counting frames:   0%|          | 0/50 [00:00<?, ?it/s]"
      ]
     },
     "metadata": {},
     "output_type": "display_data"
    },
    {
     "data": {
      "application/vnd.jupyter.widget-view+json": {
       "model_id": "935df9d10a3e424b9b8d51316bae87f0",
       "version_major": 2,
       "version_minor": 0
      },
      "text/plain": [
       "Saving plane06_stitched.tiff:   0%|          | 0/20 [00:00<?, ?it/s]"
      ]
     },
     "metadata": {},
     "output_type": "display_data"
    },
    {
     "data": {
      "application/vnd.jupyter.widget-view+json": {
       "model_id": "caaeb9c2ef804f46a624c064805089a0",
       "version_major": 2,
       "version_minor": 0
      },
      "text/plain": [
       "Saving plane07_stitched.tiff:   0%|          | 0/20 [00:00<?, ?it/s]"
      ]
     },
     "metadata": {},
     "output_type": "display_data"
    },
    {
     "data": {
      "application/vnd.jupyter.widget-view+json": {
       "model_id": "bd99ea769b8c425ca1b1d52243352edb",
       "version_major": 2,
       "version_minor": 0
      },
      "text/plain": [
       "Saving plane08_stitched.tiff:   0%|          | 0/20 [00:00<?, ?it/s]"
      ]
     },
     "metadata": {},
     "output_type": "display_data"
    },
    {
     "name": "stdout",
     "output_type": "stream",
     "text": [
      "  Time: 7.27s, Size: 1149.30MB, Throughput: 157.99MB/s\n",
      "\n",
      "Testing: phase_only → .zarr\n"
     ]
    },
    {
     "data": {
      "application/vnd.jupyter.widget-view+json": {
       "model_id": "bea8e943e529484b8ca3c4d6712afd0c",
       "version_major": 2,
       "version_minor": 0
      },
      "text/plain": [
       "Counting frames:   0%|          | 0/50 [00:00<?, ?it/s]"
      ]
     },
     "metadata": {},
     "output_type": "display_data"
    },
    {
     "data": {
      "application/vnd.jupyter.widget-view+json": {
       "model_id": "153c97a8aef443ada7fa988b3bcad06b",
       "version_major": 2,
       "version_minor": 0
      },
      "text/plain": [
       "Saving plane06_stitched.zarr:   0%|          | 0/20 [00:00<?, ?it/s]"
      ]
     },
     "metadata": {},
     "output_type": "display_data"
    },
    {
     "data": {
      "application/vnd.jupyter.widget-view+json": {
       "model_id": "97af043aa02b40ff8111cf415cc920ed",
       "version_major": 2,
       "version_minor": 0
      },
      "text/plain": [
       "Saving plane07_stitched.zarr:   0%|          | 0/20 [00:00<?, ?it/s]"
      ]
     },
     "metadata": {},
     "output_type": "display_data"
    },
    {
     "data": {
      "application/vnd.jupyter.widget-view+json": {
       "model_id": "a850a5faad3f40429b0ee330b4d0499a",
       "version_major": 2,
       "version_minor": 0
      },
      "text/plain": [
       "Saving plane08_stitched.zarr:   0%|          | 0/20 [00:00<?, ?it/s]"
      ]
     },
     "metadata": {},
     "output_type": "display_data"
    },
    {
     "name": "stdout",
     "output_type": "stream",
     "text": [
      "  Time: 58.51s, Size: 46.32MB, Throughput: 0.79MB/s\n",
      "\n",
      "Testing: phase_only → .h5\n"
     ]
    },
    {
     "data": {
      "application/vnd.jupyter.widget-view+json": {
       "model_id": "660af54e502c4ba1a136a664d7032333",
       "version_major": 2,
       "version_minor": 0
      },
      "text/plain": [
       "Counting frames:   0%|          | 0/50 [00:00<?, ?it/s]"
      ]
     },
     "metadata": {},
     "output_type": "display_data"
    },
    {
     "data": {
      "application/vnd.jupyter.widget-view+json": {
       "model_id": "cbad27d0d3c04b35b2e28eb2579de30f",
       "version_major": 2,
       "version_minor": 0
      },
      "text/plain": [
       "Saving plane06_stitched.h5:   0%|          | 0/20 [00:00<?, ?it/s]"
      ]
     },
     "metadata": {},
     "output_type": "display_data"
    },
    {
     "data": {
      "application/vnd.jupyter.widget-view+json": {
       "model_id": "c00b0a0de0e745ad902a2867650cb470",
       "version_major": 2,
       "version_minor": 0
      },
      "text/plain": [
       "Saving plane07_stitched.h5:   0%|          | 0/20 [00:00<?, ?it/s]"
      ]
     },
     "metadata": {},
     "output_type": "display_data"
    },
    {
     "data": {
      "application/vnd.jupyter.widget-view+json": {
       "model_id": "e4d11363d9ab4a11a393f7d48119919c",
       "version_major": 2,
       "version_minor": 0
      },
      "text/plain": [
       "Saving plane08_stitched.h5:   0%|          | 0/20 [00:00<?, ?it/s]"
      ]
     },
     "metadata": {},
     "output_type": "display_data"
    },
    {
     "name": "stdout",
     "output_type": "stream",
     "text": [
      "  Time: 7.87s, Size: 1148.72MB, Throughput: 145.95MB/s\n",
      "\n",
      "Testing: phase_fft → .bin\n"
     ]
    },
    {
     "data": {
      "application/vnd.jupyter.widget-view+json": {
       "model_id": "7b6e488062e746bb990f263cbd9c455d",
       "version_major": 2,
       "version_minor": 0
      },
      "text/plain": [
       "Counting frames:   0%|          | 0/50 [00:00<?, ?it/s]"
      ]
     },
     "metadata": {},
     "output_type": "display_data"
    },
    {
     "data": {
      "application/vnd.jupyter.widget-view+json": {
       "model_id": "c7f6578f6c5645cf87686f7aaca98844",
       "version_major": 2,
       "version_minor": 0
      },
      "text/plain": [
       "Saving data_raw.bin:   0%|          | 0/20 [00:00<?, ?it/s]"
      ]
     },
     "metadata": {},
     "output_type": "display_data"
    },
    {
     "data": {
      "application/vnd.jupyter.widget-view+json": {
       "model_id": "98e4ec57cd29424baf41d417c503b1dc",
       "version_major": 2,
       "version_minor": 0
      },
      "text/plain": [
       "Saving data_raw.bin:   0%|          | 0/20 [00:00<?, ?it/s]"
      ]
     },
     "metadata": {},
     "output_type": "display_data"
    },
    {
     "data": {
      "application/vnd.jupyter.widget-view+json": {
       "model_id": "a277c857ce6c459c8cd7a73695714cb8",
       "version_major": 2,
       "version_minor": 0
      },
      "text/plain": [
       "Saving data_raw.bin:   0%|          | 0/20 [00:00<?, ?it/s]"
      ]
     },
     "metadata": {},
     "output_type": "display_data"
    },
    {
     "name": "stdout",
     "output_type": "stream",
     "text": [
      "  Time: 40.29s, Size: 1148.50MB, Throughput: 28.50MB/s\n",
      "\n",
      "Testing: phase_fft → .tiff\n"
     ]
    },
    {
     "data": {
      "application/vnd.jupyter.widget-view+json": {
       "model_id": "f4f234bb55e44fceac6500ccac2b012f",
       "version_major": 2,
       "version_minor": 0
      },
      "text/plain": [
       "Counting frames:   0%|          | 0/50 [00:00<?, ?it/s]"
      ]
     },
     "metadata": {},
     "output_type": "display_data"
    },
    {
     "data": {
      "application/vnd.jupyter.widget-view+json": {
       "model_id": "1359e34b4607457f83988f9d964bbd40",
       "version_major": 2,
       "version_minor": 0
      },
      "text/plain": [
       "Saving plane06_stitched.tiff:   0%|          | 0/20 [00:00<?, ?it/s]"
      ]
     },
     "metadata": {},
     "output_type": "display_data"
    },
    {
     "data": {
      "application/vnd.jupyter.widget-view+json": {
       "model_id": "146f48a71d894f968bd5588b92f3b17f",
       "version_major": 2,
       "version_minor": 0
      },
      "text/plain": [
       "Saving plane07_stitched.tiff:   0%|          | 0/20 [00:00<?, ?it/s]"
      ]
     },
     "metadata": {},
     "output_type": "display_data"
    },
    {
     "data": {
      "application/vnd.jupyter.widget-view+json": {
       "model_id": "e681ae25177c40eea07b0a2f9f97e082",
       "version_major": 2,
       "version_minor": 0
      },
      "text/plain": [
       "Saving plane08_stitched.tiff:   0%|          | 0/20 [00:00<?, ?it/s]"
      ]
     },
     "metadata": {},
     "output_type": "display_data"
    },
    {
     "name": "stdout",
     "output_type": "stream",
     "text": [
      "  Time: 36.81s, Size: 1149.30MB, Throughput: 31.23MB/s\n",
      "\n",
      "Testing: phase_fft → .zarr\n"
     ]
    },
    {
     "data": {
      "application/vnd.jupyter.widget-view+json": {
       "model_id": "36a529ea40ac40e2b9d204536c49e8f4",
       "version_major": 2,
       "version_minor": 0
      },
      "text/plain": [
       "Counting frames:   0%|          | 0/50 [00:00<?, ?it/s]"
      ]
     },
     "metadata": {},
     "output_type": "display_data"
    },
    {
     "data": {
      "application/vnd.jupyter.widget-view+json": {
       "model_id": "6532131fc7eb4d1dba4720b5b45bd901",
       "version_major": 2,
       "version_minor": 0
      },
      "text/plain": [
       "Saving plane06_stitched.zarr:   0%|          | 0/20 [00:00<?, ?it/s]"
      ]
     },
     "metadata": {},
     "output_type": "display_data"
    },
    {
     "data": {
      "application/vnd.jupyter.widget-view+json": {
       "model_id": "63c9efeb565b43abb71271737871cb64",
       "version_major": 2,
       "version_minor": 0
      },
      "text/plain": [
       "Saving plane07_stitched.zarr:   0%|          | 0/20 [00:00<?, ?it/s]"
      ]
     },
     "metadata": {},
     "output_type": "display_data"
    },
    {
     "data": {
      "application/vnd.jupyter.widget-view+json": {
       "model_id": "de7add7cbc334e96b3b60e60277b95bc",
       "version_major": 2,
       "version_minor": 0
      },
      "text/plain": [
       "Saving plane08_stitched.zarr:   0%|          | 0/20 [00:00<?, ?it/s]"
      ]
     },
     "metadata": {},
     "output_type": "display_data"
    },
    {
     "name": "stdout",
     "output_type": "stream",
     "text": [
      "  Time: 93.35s, Size: 46.47MB, Throughput: 0.50MB/s\n",
      "\n",
      "Testing: phase_fft → .h5\n"
     ]
    },
    {
     "data": {
      "application/vnd.jupyter.widget-view+json": {
       "model_id": "9a68d12a1e1044fc8b36a3e52421b981",
       "version_major": 2,
       "version_minor": 0
      },
      "text/plain": [
       "Counting frames:   0%|          | 0/50 [00:00<?, ?it/s]"
      ]
     },
     "metadata": {},
     "output_type": "display_data"
    },
    {
     "data": {
      "application/vnd.jupyter.widget-view+json": {
       "model_id": "2dbbd36b462f4dc3b225e94ce6ba07e8",
       "version_major": 2,
       "version_minor": 0
      },
      "text/plain": [
       "Saving plane06_stitched.h5:   0%|          | 0/20 [00:00<?, ?it/s]"
      ]
     },
     "metadata": {},
     "output_type": "display_data"
    },
    {
     "data": {
      "application/vnd.jupyter.widget-view+json": {
       "model_id": "d627d24aabea46d4a969719432533f60",
       "version_major": 2,
       "version_minor": 0
      },
      "text/plain": [
       "Saving plane07_stitched.h5:   0%|          | 0/20 [00:00<?, ?it/s]"
      ]
     },
     "metadata": {},
     "output_type": "display_data"
    },
    {
     "data": {
      "application/vnd.jupyter.widget-view+json": {
       "model_id": "d300fc24a0d4442abebb128ae37788c5",
       "version_major": 2,
       "version_minor": 0
      },
      "text/plain": [
       "Saving plane08_stitched.h5:   0%|          | 0/20 [00:00<?, ?it/s]"
      ]
     },
     "metadata": {},
     "output_type": "display_data"
    },
    {
     "name": "stdout",
     "output_type": "stream",
     "text": [
      "  Time: 37.43s, Size: 1148.72MB, Throughput: 30.69MB/s\n",
      "\n",
      "Testing: full → .bin\n"
     ]
    },
    {
     "data": {
      "application/vnd.jupyter.widget-view+json": {
       "model_id": "a8c17481d8da4a65bedcebde567d6de0",
       "version_major": 2,
       "version_minor": 0
      },
      "text/plain": [
       "Counting frames:   0%|          | 0/50 [00:00<?, ?it/s]"
      ]
     },
     "metadata": {},
     "output_type": "display_data"
    },
    {
     "name": "stdout",
     "output_type": "stream",
     "text": [
      "    Loaded file into shared memory in 0.50 sec\n",
      "    Workers completed in 1.56 sec\n",
      "    Total time: 2.06 sec\n"
     ]
    },
    {
     "data": {
      "application/vnd.jupyter.widget-view+json": {
       "model_id": "ffd05df3ce2945dcb5c6157c6020538c",
       "version_major": 2,
       "version_minor": 0
      },
      "text/plain": [
       "Saving data_raw.bin:   0%|          | 0/20 [00:00<?, ?it/s]"
      ]
     },
     "metadata": {},
     "output_type": "display_data"
    },
    {
     "data": {
      "application/vnd.jupyter.widget-view+json": {
       "model_id": "e35082f2dbcb4a75995006ebeb249272",
       "version_major": 2,
       "version_minor": 0
      },
      "text/plain": [
       "Saving data_raw.bin:   0%|          | 0/20 [00:00<?, ?it/s]"
      ]
     },
     "metadata": {},
     "output_type": "display_data"
    },
    {
     "data": {
      "application/vnd.jupyter.widget-view+json": {
       "model_id": "3f564be122b94156ad61ea9effe832c6",
       "version_major": 2,
       "version_minor": 0
      },
      "text/plain": [
       "Saving data_raw.bin:   0%|          | 0/20 [00:00<?, ?it/s]"
      ]
     },
     "metadata": {},
     "output_type": "display_data"
    },
    {
     "name": "stdout",
     "output_type": "stream",
     "text": [
      "  Time: 66.25s, Size: 3144.30MB, Throughput: 47.46MB/s\n",
      "\n",
      "Testing: full → .tiff\n"
     ]
    },
    {
     "data": {
      "application/vnd.jupyter.widget-view+json": {
       "model_id": "5f6bfa6f160d45198bd6a88733ff67ac",
       "version_major": 2,
       "version_minor": 0
      },
      "text/plain": [
       "Counting frames:   0%|          | 0/50 [00:00<?, ?it/s]"
      ]
     },
     "metadata": {},
     "output_type": "display_data"
    },
    {
     "name": "stdout",
     "output_type": "stream",
     "text": [
      "    Loaded file into shared memory in 0.48 sec\n",
      "    Workers completed in 1.55 sec\n",
      "    Total time: 2.03 sec\n"
     ]
    },
    {
     "data": {
      "application/vnd.jupyter.widget-view+json": {
       "model_id": "21b77ed56935416b9b0687036d8cc83a",
       "version_major": 2,
       "version_minor": 0
      },
      "text/plain": [
       "Saving plane06_stitched.tiff:   0%|          | 0/20 [00:00<?, ?it/s]"
      ]
     },
     "metadata": {},
     "output_type": "display_data"
    },
    {
     "data": {
      "application/vnd.jupyter.widget-view+json": {
       "model_id": "180d665de5fa4379a3aa44a03300c51d",
       "version_major": 2,
       "version_minor": 0
      },
      "text/plain": [
       "Saving plane07_stitched.tiff:   0%|          | 0/20 [00:00<?, ?it/s]"
      ]
     },
     "metadata": {},
     "output_type": "display_data"
    },
    {
     "data": {
      "application/vnd.jupyter.widget-view+json": {
       "model_id": "71f3ced17f53448bafeebb8662f33c54",
       "version_major": 2,
       "version_minor": 0
      },
      "text/plain": [
       "Saving plane08_stitched.tiff:   0%|          | 0/20 [00:00<?, ?it/s]"
      ]
     },
     "metadata": {},
     "output_type": "display_data"
    },
    {
     "name": "stdout",
     "output_type": "stream",
     "text": [
      "  Time: 63.53s, Size: 3445.01MB, Throughput: 54.23MB/s\n",
      "\n",
      "Testing: full → .zarr\n"
     ]
    },
    {
     "data": {
      "application/vnd.jupyter.widget-view+json": {
       "model_id": "99c2a31159a643b7a38751b5e6586130",
       "version_major": 2,
       "version_minor": 0
      },
      "text/plain": [
       "Counting frames:   0%|          | 0/50 [00:00<?, ?it/s]"
      ]
     },
     "metadata": {},
     "output_type": "display_data"
    },
    {
     "name": "stdout",
     "output_type": "stream",
     "text": [
      "    Loaded file into shared memory in 0.48 sec\n",
      "    Workers completed in 1.57 sec\n",
      "    Total time: 2.04 sec\n"
     ]
    },
    {
     "data": {
      "application/vnd.jupyter.widget-view+json": {
       "model_id": "178d83d0c26243b892884ad9d3f8bef3",
       "version_major": 2,
       "version_minor": 0
      },
      "text/plain": [
       "Saving plane06_stitched.zarr:   0%|          | 0/20 [00:00<?, ?it/s]"
      ]
     },
     "metadata": {},
     "output_type": "display_data"
    },
    {
     "data": {
      "application/vnd.jupyter.widget-view+json": {
       "model_id": "f3ff838c8c6a4c2a9cdd42f8485988b4",
       "version_major": 2,
       "version_minor": 0
      },
      "text/plain": [
       "Saving plane07_stitched.zarr:   0%|          | 0/20 [00:00<?, ?it/s]"
      ]
     },
     "metadata": {},
     "output_type": "display_data"
    },
    {
     "data": {
      "application/vnd.jupyter.widget-view+json": {
       "model_id": "9fd8dc0d46274571b395579882848586",
       "version_major": 2,
       "version_minor": 0
      },
      "text/plain": [
       "Saving plane08_stitched.zarr:   0%|          | 0/20 [00:00<?, ?it/s]"
      ]
     },
     "metadata": {},
     "output_type": "display_data"
    },
    {
     "name": "stdout",
     "output_type": "stream",
     "text": [
      "  Time: 114.86s, Size: 2042.33MB, Throughput: 17.78MB/s\n",
      "\n",
      "Testing: full → .h5\n"
     ]
    },
    {
     "data": {
      "application/vnd.jupyter.widget-view+json": {
       "model_id": "d80271b020654e0b8e3fe61458f9e5f8",
       "version_major": 2,
       "version_minor": 0
      },
      "text/plain": [
       "Counting frames:   0%|          | 0/50 [00:00<?, ?it/s]"
      ]
     },
     "metadata": {},
     "output_type": "display_data"
    },
    {
     "name": "stdout",
     "output_type": "stream",
     "text": [
      "    Loaded file into shared memory in 0.48 sec\n",
      "    Workers completed in 1.59 sec\n",
      "    Total time: 2.07 sec\n"
     ]
    },
    {
     "data": {
      "application/vnd.jupyter.widget-view+json": {
       "model_id": "3f24de722dfd4392bb47d5aa43b7e84d",
       "version_major": 2,
       "version_minor": 0
      },
      "text/plain": [
       "Saving plane06_stitched.h5:   0%|          | 0/20 [00:00<?, ?it/s]"
      ]
     },
     "metadata": {},
     "output_type": "display_data"
    },
    {
     "data": {
      "application/vnd.jupyter.widget-view+json": {
       "model_id": "52b84a7394f84cf58d300ab2c20bffde",
       "version_major": 2,
       "version_minor": 0
      },
      "text/plain": [
       "Saving plane07_stitched.h5:   0%|          | 0/20 [00:00<?, ?it/s]"
      ]
     },
     "metadata": {},
     "output_type": "display_data"
    },
    {
     "data": {
      "application/vnd.jupyter.widget-view+json": {
       "model_id": "28b6e4b05c644007bed74361867fa778",
       "version_major": 2,
       "version_minor": 0
      },
      "text/plain": [
       "Saving plane08_stitched.h5:   0%|          | 0/20 [00:00<?, ?it/s]"
      ]
     },
     "metadata": {},
     "output_type": "display_data"
    },
    {
     "name": "stdout",
     "output_type": "stream",
     "text": [
      "  Time: 62.04s, Size: 3444.43MB, Throughput: 55.52MB/s\n",
      "\n",
      "================================================================================\n",
      "Network → Network Results:\n",
      "             scenario      params format    time_sec      size_mb  \\\n",
      "0   Network → Network     minimal   .bin   10.702283  1148.503850   \n",
      "1   Network → Network     minimal  .tiff    7.054777  1149.296391   \n",
      "2   Network → Network     minimal  .zarr   65.760665    46.324299   \n",
      "3   Network → Network     minimal    .h5    6.612663  1148.716782   \n",
      "4   Network → Network  phase_only   .bin    9.352152  1148.503976   \n",
      "5   Network → Network  phase_only  .tiff    7.274649  1149.296345   \n",
      "6   Network → Network  phase_only  .zarr   58.513951    46.324764   \n",
      "7   Network → Network  phase_only    .h5    7.870361  1148.716782   \n",
      "8   Network → Network   phase_fft   .bin   40.294002  1148.503970   \n",
      "9   Network → Network   phase_fft  .tiff   36.805273  1149.296345   \n",
      "10  Network → Network   phase_fft  .zarr   93.354892    46.465253   \n",
      "11  Network → Network   phase_fft    .h5   37.425199  1148.716782   \n",
      "12  Network → Network        full   .bin   66.253547  3144.295123   \n",
      "13  Network → Network        full  .tiff   63.528373  3445.014484   \n",
      "14  Network → Network        full  .zarr  114.855051  2042.334355   \n",
      "15  Network → Network        full    .h5   62.043183  3444.434761   \n",
      "\n",
      "    throughput_mb_per_sec  success  \n",
      "0              107.313908     True  \n",
      "1              162.910375     True  \n",
      "2                0.704438     True  \n",
      "3              173.714701     True  \n",
      "4              122.806389     True  \n",
      "5              157.986504     True  \n",
      "6                0.791688     True  \n",
      "7              145.954775     True  \n",
      "8               28.503100     True  \n",
      "9               31.226405     True  \n",
      "10               0.497727     True  \n",
      "11              30.693672     True  \n",
      "12              47.458518     True  \n",
      "13              54.227967     True  \n",
      "14              17.781842     True  \n",
      "15              55.516732     True  \n"
     ]
    }
   ],
   "source": [
    "results_network_to_network = []\n",
    "\n",
    "# Get raw files\n",
    "raw_files = mbo.get_files(RAW_TIFFS_NETWORK)\n",
    "print(f\"Found {len(raw_files)} TIFF files on network\")\n",
    "\n",
    "for param_name, param_set in PARAM_SETS.items():\n",
    "    for file_format in FILE_FORMATS:\n",
    "        print(f\"\\nTesting: {param_name} → {file_format}\")\n",
    "\n",
    "        # Clean output directory\n",
    "        test_output = OUTPUT_NETWORK / f\"net2net_{param_name}\"\n",
    "        cleanup_output(test_output)\n",
    "\n",
    "        try:\n",
    "            # Load scan\n",
    "            scan = mbo.imread(raw_files)\n",
    "            scan.roi = None\n",
    "            scan.fix_phase = param_set['fix_phase']\n",
    "            scan.use_fft = param_set['use_fft']\n",
    "\n",
    "            # Time the write operation\n",
    "            start_time = time.time()\n",
    "            mbo.imwrite(\n",
    "                scan,\n",
    "                test_output,\n",
    "                ext=file_format,\n",
    "                num_frames=TEST_FRAMES,\n",
    "                planes=TEST_PLANES,\n",
    "                overwrite=True,\n",
    "                register_z=param_set['register_z']\n",
    "            )\n",
    "            elapsed_time = time.time() - start_time\n",
    "\n",
    "            # Get output size\n",
    "            output_size = get_directory_size(test_output)\n",
    "\n",
    "            # Calculate throughput\n",
    "            throughput = output_size / elapsed_time if elapsed_time > 0 else 0\n",
    "\n",
    "            results_network_to_network.append({\n",
    "                'scenario': 'Network → Network',\n",
    "                'params': param_name,\n",
    "                'format': file_format,\n",
    "                'time_sec': elapsed_time,\n",
    "                'size_mb': output_size,\n",
    "                'throughput_mb_per_sec': throughput,\n",
    "                'success': True\n",
    "            })\n",
    "\n",
    "            print(f\"  Time: {elapsed_time:.2f}s, Size: {output_size:.2f}MB, Throughput: {throughput:.2f}MB/s\")\n",
    "\n",
    "        except Exception as e:\n",
    "            print(f\"  ERROR: {e}\")\n",
    "            results_network_to_network.append({\n",
    "                'scenario': 'Network → Network',\n",
    "                'params': param_name,\n",
    "                'format': file_format,\n",
    "                'time_sec': None,\n",
    "                'size_mb': None,\n",
    "                'throughput_mb_per_sec': None,\n",
    "                'success': False,\n",
    "                'error': str(e)\n",
    "            })\n",
    "\n",
    "df_net2net = pd.DataFrame(results_network_to_network)\n",
    "print(\"\\n\" + \"=\"*80)\n",
    "print(\"Network → Network Results:\")\n",
    "print(df_net2net[df_net2net['success']])"
   ]
  },
  {
   "cell_type": "markdown",
   "metadata": {},
   "source": [
    "## Benchmark 2: Network → Local\n",
    "\n",
    "Read from network storage, write to local NVMe"
   ]
  },
  {
   "cell_type": "code",
   "execution_count": 6,
   "metadata": {},
   "outputs": [
    {
     "name": "stdout",
     "output_type": "stream",
     "text": [
      "\n",
      "Testing: minimal → .bin\n"
     ]
    },
    {
     "data": {
      "application/vnd.jupyter.widget-view+json": {
       "model_id": "68e010d1f1a846dca6daaac3fe953d0e",
       "version_major": 2,
       "version_minor": 0
      },
      "text/plain": [
       "Counting frames:   0%|          | 0/50 [00:00<?, ?it/s]"
      ]
     },
     "metadata": {},
     "output_type": "display_data"
    },
    {
     "data": {
      "application/vnd.jupyter.widget-view+json": {
       "model_id": "90c5dc1046cc4195ada85a93221790ba",
       "version_major": 2,
       "version_minor": 0
      },
      "text/plain": [
       "Saving data_raw.bin:   0%|          | 0/20 [00:00<?, ?it/s]"
      ]
     },
     "metadata": {},
     "output_type": "display_data"
    },
    {
     "data": {
      "application/vnd.jupyter.widget-view+json": {
       "model_id": "4453fe96bb204241bed6011853ffd32e",
       "version_major": 2,
       "version_minor": 0
      },
      "text/plain": [
       "Saving data_raw.bin:   0%|          | 0/20 [00:00<?, ?it/s]"
      ]
     },
     "metadata": {},
     "output_type": "display_data"
    },
    {
     "data": {
      "application/vnd.jupyter.widget-view+json": {
       "model_id": "8078d253573343e5b439f383c3466718",
       "version_major": 2,
       "version_minor": 0
      },
      "text/plain": [
       "Saving data_raw.bin:   0%|          | 0/20 [00:00<?, ?it/s]"
      ]
     },
     "metadata": {},
     "output_type": "display_data"
    },
    {
     "name": "stdout",
     "output_type": "stream",
     "text": [
      "  Time: 5.95s, Size: 1148.50MB, Throughput: 193.18MB/s\n",
      "\n",
      "Testing: minimal → .tiff\n"
     ]
    },
    {
     "data": {
      "application/vnd.jupyter.widget-view+json": {
       "model_id": "f82337d9e44d455eb202a215fe8af2ed",
       "version_major": 2,
       "version_minor": 0
      },
      "text/plain": [
       "Counting frames:   0%|          | 0/50 [00:00<?, ?it/s]"
      ]
     },
     "metadata": {},
     "output_type": "display_data"
    },
    {
     "data": {
      "application/vnd.jupyter.widget-view+json": {
       "model_id": "f778a24e406c46b1a845488f372118d6",
       "version_major": 2,
       "version_minor": 0
      },
      "text/plain": [
       "Saving plane06_stitched.tiff:   0%|          | 0/20 [00:00<?, ?it/s]"
      ]
     },
     "metadata": {},
     "output_type": "display_data"
    },
    {
     "data": {
      "application/vnd.jupyter.widget-view+json": {
       "model_id": "d2bec955418d4147924dcc56203d5244",
       "version_major": 2,
       "version_minor": 0
      },
      "text/plain": [
       "Saving plane07_stitched.tiff:   0%|          | 0/20 [00:00<?, ?it/s]"
      ]
     },
     "metadata": {},
     "output_type": "display_data"
    },
    {
     "data": {
      "application/vnd.jupyter.widget-view+json": {
       "model_id": "1b3a9877e82946529e7be85fa90e09e9",
       "version_major": 2,
       "version_minor": 0
      },
      "text/plain": [
       "Saving plane08_stitched.tiff:   0%|          | 0/20 [00:00<?, ?it/s]"
      ]
     },
     "metadata": {},
     "output_type": "display_data"
    },
    {
     "name": "stdout",
     "output_type": "stream",
     "text": [
      "  Time: 3.39s, Size: 1149.30MB, Throughput: 339.09MB/s\n",
      "\n",
      "Testing: minimal → .zarr\n"
     ]
    },
    {
     "data": {
      "application/vnd.jupyter.widget-view+json": {
       "model_id": "5fb946f2c02541d9a0427ab736091d0d",
       "version_major": 2,
       "version_minor": 0
      },
      "text/plain": [
       "Counting frames:   0%|          | 0/50 [00:00<?, ?it/s]"
      ]
     },
     "metadata": {},
     "output_type": "display_data"
    },
    {
     "data": {
      "application/vnd.jupyter.widget-view+json": {
       "model_id": "e7cdfbefe14343a0ab6421512462c81c",
       "version_major": 2,
       "version_minor": 0
      },
      "text/plain": [
       "Saving plane06_stitched.zarr:   0%|          | 0/20 [00:00<?, ?it/s]"
      ]
     },
     "metadata": {},
     "output_type": "display_data"
    },
    {
     "data": {
      "application/vnd.jupyter.widget-view+json": {
       "model_id": "531061fd3f124552b8e6dd76052eea1d",
       "version_major": 2,
       "version_minor": 0
      },
      "text/plain": [
       "Saving plane07_stitched.zarr:   0%|          | 0/20 [00:00<?, ?it/s]"
      ]
     },
     "metadata": {},
     "output_type": "display_data"
    },
    {
     "data": {
      "application/vnd.jupyter.widget-view+json": {
       "model_id": "523091d651184797a79e481dcc3c30b5",
       "version_major": 2,
       "version_minor": 0
      },
      "text/plain": [
       "Saving plane08_stitched.zarr:   0%|          | 0/20 [00:00<?, ?it/s]"
      ]
     },
     "metadata": {},
     "output_type": "display_data"
    },
    {
     "name": "stdout",
     "output_type": "stream",
     "text": [
      "  Time: 9.20s, Size: 46.32MB, Throughput: 5.04MB/s\n",
      "\n",
      "Testing: minimal → .h5\n"
     ]
    },
    {
     "data": {
      "application/vnd.jupyter.widget-view+json": {
       "model_id": "d5e2d8ae80404d079826f468af5532b3",
       "version_major": 2,
       "version_minor": 0
      },
      "text/plain": [
       "Counting frames:   0%|          | 0/50 [00:00<?, ?it/s]"
      ]
     },
     "metadata": {},
     "output_type": "display_data"
    },
    {
     "data": {
      "application/vnd.jupyter.widget-view+json": {
       "model_id": "f5feaaccb90346aab07603a84adb21d9",
       "version_major": 2,
       "version_minor": 0
      },
      "text/plain": [
       "Saving plane06_stitched.h5:   0%|          | 0/20 [00:00<?, ?it/s]"
      ]
     },
     "metadata": {},
     "output_type": "display_data"
    },
    {
     "data": {
      "application/vnd.jupyter.widget-view+json": {
       "model_id": "9776f76e721243669f1f521f6a7f89cf",
       "version_major": 2,
       "version_minor": 0
      },
      "text/plain": [
       "Saving plane07_stitched.h5:   0%|          | 0/20 [00:00<?, ?it/s]"
      ]
     },
     "metadata": {},
     "output_type": "display_data"
    },
    {
     "data": {
      "application/vnd.jupyter.widget-view+json": {
       "model_id": "099ab7901cee436a9ed781def471e6a0",
       "version_major": 2,
       "version_minor": 0
      },
      "text/plain": [
       "Saving plane08_stitched.h5:   0%|          | 0/20 [00:00<?, ?it/s]"
      ]
     },
     "metadata": {},
     "output_type": "display_data"
    },
    {
     "name": "stdout",
     "output_type": "stream",
     "text": [
      "  Time: 4.78s, Size: 1148.72MB, Throughput: 240.51MB/s\n",
      "\n",
      "Testing: phase_only → .bin\n"
     ]
    },
    {
     "data": {
      "application/vnd.jupyter.widget-view+json": {
       "model_id": "bcb1a4d1685640da98e772304e8b28a7",
       "version_major": 2,
       "version_minor": 0
      },
      "text/plain": [
       "Counting frames:   0%|          | 0/50 [00:00<?, ?it/s]"
      ]
     },
     "metadata": {},
     "output_type": "display_data"
    },
    {
     "data": {
      "application/vnd.jupyter.widget-view+json": {
       "model_id": "a1b18d1b54da4bbfb858708b9d84a149",
       "version_major": 2,
       "version_minor": 0
      },
      "text/plain": [
       "Saving data_raw.bin:   0%|          | 0/20 [00:00<?, ?it/s]"
      ]
     },
     "metadata": {},
     "output_type": "display_data"
    },
    {
     "data": {
      "application/vnd.jupyter.widget-view+json": {
       "model_id": "833c4c21c3484e518f598d5fcf803819",
       "version_major": 2,
       "version_minor": 0
      },
      "text/plain": [
       "Saving data_raw.bin:   0%|          | 0/20 [00:00<?, ?it/s]"
      ]
     },
     "metadata": {},
     "output_type": "display_data"
    },
    {
     "data": {
      "application/vnd.jupyter.widget-view+json": {
       "model_id": "cafa451336464063825d9bbeb54b5848",
       "version_major": 2,
       "version_minor": 0
      },
      "text/plain": [
       "Saving data_raw.bin:   0%|          | 0/20 [00:00<?, ?it/s]"
      ]
     },
     "metadata": {},
     "output_type": "display_data"
    },
    {
     "name": "stdout",
     "output_type": "stream",
     "text": [
      "  Time: 6.65s, Size: 1148.50MB, Throughput: 172.82MB/s\n",
      "\n",
      "Testing: phase_only → .tiff\n"
     ]
    },
    {
     "data": {
      "application/vnd.jupyter.widget-view+json": {
       "model_id": "42a65673ad4a4c7a9a9a42b333910fa5",
       "version_major": 2,
       "version_minor": 0
      },
      "text/plain": [
       "Counting frames:   0%|          | 0/50 [00:00<?, ?it/s]"
      ]
     },
     "metadata": {},
     "output_type": "display_data"
    },
    {
     "data": {
      "application/vnd.jupyter.widget-view+json": {
       "model_id": "b776f96961e64d39bc5ca512f2376a25",
       "version_major": 2,
       "version_minor": 0
      },
      "text/plain": [
       "Saving plane06_stitched.tiff:   0%|          | 0/20 [00:00<?, ?it/s]"
      ]
     },
     "metadata": {},
     "output_type": "display_data"
    },
    {
     "data": {
      "application/vnd.jupyter.widget-view+json": {
       "model_id": "f69ffbad84f4422bba53446bbdb5aa43",
       "version_major": 2,
       "version_minor": 0
      },
      "text/plain": [
       "Saving plane07_stitched.tiff:   0%|          | 0/20 [00:00<?, ?it/s]"
      ]
     },
     "metadata": {},
     "output_type": "display_data"
    },
    {
     "data": {
      "application/vnd.jupyter.widget-view+json": {
       "model_id": "4ba627b00d7549798ee31041b8e411e0",
       "version_major": 2,
       "version_minor": 0
      },
      "text/plain": [
       "Saving plane08_stitched.tiff:   0%|          | 0/20 [00:00<?, ?it/s]"
      ]
     },
     "metadata": {},
     "output_type": "display_data"
    },
    {
     "name": "stdout",
     "output_type": "stream",
     "text": [
      "  Time: 4.84s, Size: 1149.30MB, Throughput: 237.32MB/s\n",
      "\n",
      "Testing: phase_only → .zarr\n"
     ]
    },
    {
     "data": {
      "application/vnd.jupyter.widget-view+json": {
       "model_id": "a1238accaa4f4090868eb12a8cf13ec3",
       "version_major": 2,
       "version_minor": 0
      },
      "text/plain": [
       "Counting frames:   0%|          | 0/50 [00:00<?, ?it/s]"
      ]
     },
     "metadata": {},
     "output_type": "display_data"
    },
    {
     "data": {
      "application/vnd.jupyter.widget-view+json": {
       "model_id": "844b7a23ff404a78b33b2f87d5f4e1c1",
       "version_major": 2,
       "version_minor": 0
      },
      "text/plain": [
       "Saving plane06_stitched.zarr:   0%|          | 0/20 [00:00<?, ?it/s]"
      ]
     },
     "metadata": {},
     "output_type": "display_data"
    },
    {
     "data": {
      "application/vnd.jupyter.widget-view+json": {
       "model_id": "7a65d5b7afca485fb0c99443ec24b04f",
       "version_major": 2,
       "version_minor": 0
      },
      "text/plain": [
       "Saving plane07_stitched.zarr:   0%|          | 0/20 [00:00<?, ?it/s]"
      ]
     },
     "metadata": {},
     "output_type": "display_data"
    },
    {
     "data": {
      "application/vnd.jupyter.widget-view+json": {
       "model_id": "6bcf795dbe3a4924bdee8ae21d7678de",
       "version_major": 2,
       "version_minor": 0
      },
      "text/plain": [
       "Saving plane08_stitched.zarr:   0%|          | 0/20 [00:00<?, ?it/s]"
      ]
     },
     "metadata": {},
     "output_type": "display_data"
    },
    {
     "name": "stdout",
     "output_type": "stream",
     "text": [
      "  Time: 9.94s, Size: 46.32MB, Throughput: 4.66MB/s\n",
      "\n",
      "Testing: phase_only → .h5\n"
     ]
    },
    {
     "data": {
      "application/vnd.jupyter.widget-view+json": {
       "model_id": "036ab90473f44afeaf459b5e59d7bb1e",
       "version_major": 2,
       "version_minor": 0
      },
      "text/plain": [
       "Counting frames:   0%|          | 0/50 [00:00<?, ?it/s]"
      ]
     },
     "metadata": {},
     "output_type": "display_data"
    },
    {
     "data": {
      "application/vnd.jupyter.widget-view+json": {
       "model_id": "11185daf56f94af0bc521342cb817ed5",
       "version_major": 2,
       "version_minor": 0
      },
      "text/plain": [
       "Saving plane06_stitched.h5:   0%|          | 0/20 [00:00<?, ?it/s]"
      ]
     },
     "metadata": {},
     "output_type": "display_data"
    },
    {
     "data": {
      "application/vnd.jupyter.widget-view+json": {
       "model_id": "84cc63e0cbef44738eab2be2e0540928",
       "version_major": 2,
       "version_minor": 0
      },
      "text/plain": [
       "Saving plane07_stitched.h5:   0%|          | 0/20 [00:00<?, ?it/s]"
      ]
     },
     "metadata": {},
     "output_type": "display_data"
    },
    {
     "data": {
      "application/vnd.jupyter.widget-view+json": {
       "model_id": "97f49ea05eb64e0a8c002c06768c9a9d",
       "version_major": 2,
       "version_minor": 0
      },
      "text/plain": [
       "Saving plane08_stitched.h5:   0%|          | 0/20 [00:00<?, ?it/s]"
      ]
     },
     "metadata": {},
     "output_type": "display_data"
    },
    {
     "name": "stdout",
     "output_type": "stream",
     "text": [
      "  Time: 5.53s, Size: 1148.72MB, Throughput: 207.73MB/s\n",
      "\n",
      "Testing: phase_fft → .bin\n"
     ]
    },
    {
     "data": {
      "application/vnd.jupyter.widget-view+json": {
       "model_id": "d778512601594bffa461f324bc50aee9",
       "version_major": 2,
       "version_minor": 0
      },
      "text/plain": [
       "Counting frames:   0%|          | 0/50 [00:00<?, ?it/s]"
      ]
     },
     "metadata": {},
     "output_type": "display_data"
    },
    {
     "data": {
      "application/vnd.jupyter.widget-view+json": {
       "model_id": "8c271410c3e84536ba8e92df10cf8740",
       "version_major": 2,
       "version_minor": 0
      },
      "text/plain": [
       "Saving data_raw.bin:   0%|          | 0/20 [00:00<?, ?it/s]"
      ]
     },
     "metadata": {},
     "output_type": "display_data"
    },
    {
     "data": {
      "application/vnd.jupyter.widget-view+json": {
       "model_id": "edae7c5497864c5580a2429658da1ff0",
       "version_major": 2,
       "version_minor": 0
      },
      "text/plain": [
       "Saving data_raw.bin:   0%|          | 0/20 [00:00<?, ?it/s]"
      ]
     },
     "metadata": {},
     "output_type": "display_data"
    },
    {
     "data": {
      "application/vnd.jupyter.widget-view+json": {
       "model_id": "893b77764bad47ebae782f1e0abd5454",
       "version_major": 2,
       "version_minor": 0
      },
      "text/plain": [
       "Saving data_raw.bin:   0%|          | 0/20 [00:00<?, ?it/s]"
      ]
     },
     "metadata": {},
     "output_type": "display_data"
    },
    {
     "name": "stdout",
     "output_type": "stream",
     "text": [
      "  Time: 36.42s, Size: 1148.50MB, Throughput: 31.53MB/s\n",
      "\n",
      "Testing: phase_fft → .tiff\n"
     ]
    },
    {
     "data": {
      "application/vnd.jupyter.widget-view+json": {
       "model_id": "cdccfe87f3194e5da1b2ba91f0758790",
       "version_major": 2,
       "version_minor": 0
      },
      "text/plain": [
       "Counting frames:   0%|          | 0/50 [00:00<?, ?it/s]"
      ]
     },
     "metadata": {},
     "output_type": "display_data"
    },
    {
     "data": {
      "application/vnd.jupyter.widget-view+json": {
       "model_id": "3578849b1338474f8d35ceeb53c593f3",
       "version_major": 2,
       "version_minor": 0
      },
      "text/plain": [
       "Saving plane06_stitched.tiff:   0%|          | 0/20 [00:00<?, ?it/s]"
      ]
     },
     "metadata": {},
     "output_type": "display_data"
    },
    {
     "data": {
      "application/vnd.jupyter.widget-view+json": {
       "model_id": "312d377c0872414285b55f72be206691",
       "version_major": 2,
       "version_minor": 0
      },
      "text/plain": [
       "Saving plane07_stitched.tiff:   0%|          | 0/20 [00:00<?, ?it/s]"
      ]
     },
     "metadata": {},
     "output_type": "display_data"
    },
    {
     "data": {
      "application/vnd.jupyter.widget-view+json": {
       "model_id": "b3e104fc1ad54029a0337ec04e2b6cd0",
       "version_major": 2,
       "version_minor": 0
      },
      "text/plain": [
       "Saving plane08_stitched.tiff:   0%|          | 0/20 [00:00<?, ?it/s]"
      ]
     },
     "metadata": {},
     "output_type": "display_data"
    },
    {
     "name": "stdout",
     "output_type": "stream",
     "text": [
      "  Time: 34.88s, Size: 1149.30MB, Throughput: 32.95MB/s\n",
      "\n",
      "Testing: phase_fft → .zarr\n"
     ]
    },
    {
     "data": {
      "application/vnd.jupyter.widget-view+json": {
       "model_id": "a6150f4bad0645e3a5c355b335fb8395",
       "version_major": 2,
       "version_minor": 0
      },
      "text/plain": [
       "Counting frames:   0%|          | 0/50 [00:00<?, ?it/s]"
      ]
     },
     "metadata": {},
     "output_type": "display_data"
    },
    {
     "data": {
      "application/vnd.jupyter.widget-view+json": {
       "model_id": "2833c7126d2544548ae6d0826466321d",
       "version_major": 2,
       "version_minor": 0
      },
      "text/plain": [
       "Saving plane06_stitched.zarr:   0%|          | 0/20 [00:00<?, ?it/s]"
      ]
     },
     "metadata": {},
     "output_type": "display_data"
    },
    {
     "data": {
      "application/vnd.jupyter.widget-view+json": {
       "model_id": "026da852d1a243f6ac3f8e31c3d428ee",
       "version_major": 2,
       "version_minor": 0
      },
      "text/plain": [
       "Saving plane07_stitched.zarr:   0%|          | 0/20 [00:00<?, ?it/s]"
      ]
     },
     "metadata": {},
     "output_type": "display_data"
    },
    {
     "data": {
      "application/vnd.jupyter.widget-view+json": {
       "model_id": "1ff370d15c174b17a22644f3a13f4569",
       "version_major": 2,
       "version_minor": 0
      },
      "text/plain": [
       "Saving plane08_stitched.zarr:   0%|          | 0/20 [00:00<?, ?it/s]"
      ]
     },
     "metadata": {},
     "output_type": "display_data"
    },
    {
     "name": "stdout",
     "output_type": "stream",
     "text": [
      "  Time: 40.40s, Size: 46.47MB, Throughput: 1.15MB/s\n",
      "\n",
      "Testing: phase_fft → .h5\n"
     ]
    },
    {
     "data": {
      "application/vnd.jupyter.widget-view+json": {
       "model_id": "ad40bd47bcb94439a4dd6947e684c682",
       "version_major": 2,
       "version_minor": 0
      },
      "text/plain": [
       "Counting frames:   0%|          | 0/50 [00:00<?, ?it/s]"
      ]
     },
     "metadata": {},
     "output_type": "display_data"
    },
    {
     "data": {
      "application/vnd.jupyter.widget-view+json": {
       "model_id": "f79bf61ee1a343fb894bb39c66347087",
       "version_major": 2,
       "version_minor": 0
      },
      "text/plain": [
       "Saving plane06_stitched.h5:   0%|          | 0/20 [00:00<?, ?it/s]"
      ]
     },
     "metadata": {},
     "output_type": "display_data"
    },
    {
     "data": {
      "application/vnd.jupyter.widget-view+json": {
       "model_id": "23d1b76b62d84b53ac170446ed8cae20",
       "version_major": 2,
       "version_minor": 0
      },
      "text/plain": [
       "Saving plane07_stitched.h5:   0%|          | 0/20 [00:00<?, ?it/s]"
      ]
     },
     "metadata": {},
     "output_type": "display_data"
    },
    {
     "data": {
      "application/vnd.jupyter.widget-view+json": {
       "model_id": "edc0a5684c4a4af39fd0c3754e191d5d",
       "version_major": 2,
       "version_minor": 0
      },
      "text/plain": [
       "Saving plane08_stitched.h5:   0%|          | 0/20 [00:00<?, ?it/s]"
      ]
     },
     "metadata": {},
     "output_type": "display_data"
    },
    {
     "name": "stdout",
     "output_type": "stream",
     "text": [
      "  Time: 35.20s, Size: 1148.72MB, Throughput: 32.63MB/s\n",
      "\n",
      "Testing: full → .bin\n"
     ]
    },
    {
     "data": {
      "application/vnd.jupyter.widget-view+json": {
       "model_id": "ce2112ca1f644f8e97895f226c178eed",
       "version_major": 2,
       "version_minor": 0
      },
      "text/plain": [
       "Counting frames:   0%|          | 0/50 [00:00<?, ?it/s]"
      ]
     },
     "metadata": {},
     "output_type": "display_data"
    },
    {
     "name": "stdout",
     "output_type": "stream",
     "text": [
      "    Loaded file into shared memory in 0.47 sec\n",
      "    Workers completed in 1.58 sec\n",
      "    Total time: 2.05 sec\n"
     ]
    },
    {
     "data": {
      "application/vnd.jupyter.widget-view+json": {
       "model_id": "13a4104be0c541dc807b3be73e652648",
       "version_major": 2,
       "version_minor": 0
      },
      "text/plain": [
       "Saving data_raw.bin:   0%|          | 0/20 [00:00<?, ?it/s]"
      ]
     },
     "metadata": {},
     "output_type": "display_data"
    },
    {
     "data": {
      "application/vnd.jupyter.widget-view+json": {
       "model_id": "4a4d3611e7b845788d105286f620fe30",
       "version_major": 2,
       "version_minor": 0
      },
      "text/plain": [
       "Saving data_raw.bin:   0%|          | 0/20 [00:00<?, ?it/s]"
      ]
     },
     "metadata": {},
     "output_type": "display_data"
    },
    {
     "data": {
      "application/vnd.jupyter.widget-view+json": {
       "model_id": "463bf56c008740c8a8c27dcea63fcd26",
       "version_major": 2,
       "version_minor": 0
      },
      "text/plain": [
       "Saving data_raw.bin:   0%|          | 0/20 [00:00<?, ?it/s]"
      ]
     },
     "metadata": {},
     "output_type": "display_data"
    },
    {
     "name": "stdout",
     "output_type": "stream",
     "text": [
      "  Time: 55.61s, Size: 3144.29MB, Throughput: 56.54MB/s\n",
      "\n",
      "Testing: full → .tiff\n"
     ]
    },
    {
     "data": {
      "application/vnd.jupyter.widget-view+json": {
       "model_id": "1e57033dddda4128beae33847324db4c",
       "version_major": 2,
       "version_minor": 0
      },
      "text/plain": [
       "Counting frames:   0%|          | 0/50 [00:00<?, ?it/s]"
      ]
     },
     "metadata": {},
     "output_type": "display_data"
    },
    {
     "name": "stdout",
     "output_type": "stream",
     "text": [
      "    Loaded file into shared memory in 0.51 sec\n",
      "    Workers completed in 1.57 sec\n",
      "    Total time: 2.08 sec\n"
     ]
    },
    {
     "data": {
      "application/vnd.jupyter.widget-view+json": {
       "model_id": "a917f0bcb94a47cab5c25194dc807dba",
       "version_major": 2,
       "version_minor": 0
      },
      "text/plain": [
       "Saving plane06_stitched.tiff:   0%|          | 0/20 [00:00<?, ?it/s]"
      ]
     },
     "metadata": {},
     "output_type": "display_data"
    },
    {
     "data": {
      "application/vnd.jupyter.widget-view+json": {
       "model_id": "8ba0b6b513c6421bb662c0085a76802f",
       "version_major": 2,
       "version_minor": 0
      },
      "text/plain": [
       "Saving plane07_stitched.tiff:   0%|          | 0/20 [00:00<?, ?it/s]"
      ]
     },
     "metadata": {},
     "output_type": "display_data"
    },
    {
     "data": {
      "application/vnd.jupyter.widget-view+json": {
       "model_id": "04f6d85bbb674cc4877643ee6cd5d5b5",
       "version_major": 2,
       "version_minor": 0
      },
      "text/plain": [
       "Saving plane08_stitched.tiff:   0%|          | 0/20 [00:00<?, ?it/s]"
      ]
     },
     "metadata": {},
     "output_type": "display_data"
    },
    {
     "name": "stdout",
     "output_type": "stream",
     "text": [
      "  Time: 55.36s, Size: 3445.01MB, Throughput: 62.23MB/s\n",
      "\n",
      "Testing: full → .zarr\n"
     ]
    },
    {
     "data": {
      "application/vnd.jupyter.widget-view+json": {
       "model_id": "05b3e225c916402a88af628a22c81ee3",
       "version_major": 2,
       "version_minor": 0
      },
      "text/plain": [
       "Counting frames:   0%|          | 0/50 [00:00<?, ?it/s]"
      ]
     },
     "metadata": {},
     "output_type": "display_data"
    },
    {
     "name": "stdout",
     "output_type": "stream",
     "text": [
      "    Loaded file into shared memory in 0.51 sec\n",
      "    Workers completed in 1.54 sec\n",
      "    Total time: 2.05 sec\n"
     ]
    },
    {
     "data": {
      "application/vnd.jupyter.widget-view+json": {
       "model_id": "9cfe727642454fc7bf4befe73760d0fc",
       "version_major": 2,
       "version_minor": 0
      },
      "text/plain": [
       "Saving plane06_stitched.zarr:   0%|          | 0/20 [00:00<?, ?it/s]"
      ]
     },
     "metadata": {},
     "output_type": "display_data"
    },
    {
     "data": {
      "application/vnd.jupyter.widget-view+json": {
       "model_id": "d2552c8df0284a66aa0f5b9007848899",
       "version_major": 2,
       "version_minor": 0
      },
      "text/plain": [
       "Saving plane07_stitched.zarr:   0%|          | 0/20 [00:00<?, ?it/s]"
      ]
     },
     "metadata": {},
     "output_type": "display_data"
    },
    {
     "data": {
      "application/vnd.jupyter.widget-view+json": {
       "model_id": "474d0045c0ae4ec8b1f0fe150e8490f4",
       "version_major": 2,
       "version_minor": 0
      },
      "text/plain": [
       "Saving plane08_stitched.zarr:   0%|          | 0/20 [00:00<?, ?it/s]"
      ]
     },
     "metadata": {},
     "output_type": "display_data"
    },
    {
     "name": "stdout",
     "output_type": "stream",
     "text": [
      "  Time: 60.92s, Size: 2042.33MB, Throughput: 33.53MB/s\n",
      "\n",
      "Testing: full → .h5\n"
     ]
    },
    {
     "data": {
      "application/vnd.jupyter.widget-view+json": {
       "model_id": "35845ef26109437a8112766c90c41dfc",
       "version_major": 2,
       "version_minor": 0
      },
      "text/plain": [
       "Counting frames:   0%|          | 0/50 [00:00<?, ?it/s]"
      ]
     },
     "metadata": {},
     "output_type": "display_data"
    },
    {
     "name": "stdout",
     "output_type": "stream",
     "text": [
      "    Loaded file into shared memory in 0.51 sec\n",
      "    Workers completed in 1.57 sec\n",
      "    Total time: 2.08 sec\n"
     ]
    },
    {
     "data": {
      "application/vnd.jupyter.widget-view+json": {
       "model_id": "c869376348c44e0b8abb92d50a11caa0",
       "version_major": 2,
       "version_minor": 0
      },
      "text/plain": [
       "Saving plane06_stitched.h5:   0%|          | 0/20 [00:00<?, ?it/s]"
      ]
     },
     "metadata": {},
     "output_type": "display_data"
    },
    {
     "data": {
      "application/vnd.jupyter.widget-view+json": {
       "model_id": "16c1a55a77ac4e8c9d2125fedd82e566",
       "version_major": 2,
       "version_minor": 0
      },
      "text/plain": [
       "Saving plane07_stitched.h5:   0%|          | 0/20 [00:00<?, ?it/s]"
      ]
     },
     "metadata": {},
     "output_type": "display_data"
    },
    {
     "data": {
      "application/vnd.jupyter.widget-view+json": {
       "model_id": "4f09f67db26040f7961297c80036d967",
       "version_major": 2,
       "version_minor": 0
      },
      "text/plain": [
       "Saving plane08_stitched.h5:   0%|          | 0/20 [00:00<?, ?it/s]"
      ]
     },
     "metadata": {},
     "output_type": "display_data"
    },
    {
     "name": "stdout",
     "output_type": "stream",
     "text": [
      "  Time: 54.90s, Size: 3444.43MB, Throughput: 62.74MB/s\n",
      "\n",
      "================================================================================\n",
      "Network → Local Results:\n",
      "           scenario      params format   time_sec      size_mb  \\\n",
      "0   Network → Local     minimal   .bin   5.945117  1148.503776   \n",
      "1   Network → Local     minimal  .tiff   3.389370  1149.296391   \n",
      "2   Network → Local     minimal  .zarr   9.195517    46.324299   \n",
      "3   Network → Local     minimal    .h5   4.776096  1148.716782   \n",
      "4   Network → Local  phase_only   .bin   6.645672  1148.503901   \n",
      "5   Network → Local  phase_only  .tiff   4.842848  1149.296345   \n",
      "6   Network → Local  phase_only  .zarr   9.942824    46.324764   \n",
      "7   Network → Local  phase_only    .h5   5.529772  1148.716782   \n",
      "8   Network → Local   phase_fft   .bin  36.423970  1148.503896   \n",
      "9   Network → Local   phase_fft  .tiff  34.881248  1149.296345   \n",
      "10  Network → Local   phase_fft  .zarr  40.403936    46.465253   \n",
      "11  Network → Local   phase_fft    .h5  35.200797  1148.716782   \n",
      "12  Network → Local        full   .bin  55.609073  3144.294838   \n",
      "13  Network → Local        full  .tiff  55.359412  3445.014265   \n",
      "14  Network → Local        full  .zarr  60.915241  2042.334136   \n",
      "15  Network → Local        full    .h5  54.899461  3444.434587   \n",
      "\n",
      "    throughput_mb_per_sec  success  \n",
      "0              193.184401     True  \n",
      "1              339.088504     True  \n",
      "2                5.037704     True  \n",
      "3              240.513749     True  \n",
      "4              172.819821     True  \n",
      "5              237.318298     True  \n",
      "6                4.659115     True  \n",
      "7              207.733108     True  \n",
      "8               31.531541     True  \n",
      "9               32.948831     True  \n",
      "10               1.150018     True  \n",
      "11              32.633260     True  \n",
      "12              56.542838     True  \n",
      "13              62.229965     True  \n",
      "14              33.527474     True  \n",
      "15              62.740772     True  \n"
     ]
    }
   ],
   "source": [
    "results_network_to_local = []\n",
    "\n",
    "for param_name, param_set in PARAM_SETS.items():\n",
    "    for file_format in FILE_FORMATS:\n",
    "        print(f\"\\nTesting: {param_name} → {file_format}\")\n",
    "\n",
    "        # Clean output directory\n",
    "        test_output = OUTPUT_LOCAL / f\"net2local_{param_name}\"\n",
    "        cleanup_output(test_output)\n",
    "\n",
    "        try:\n",
    "            # Load scan from network\n",
    "            scan = mbo.imread(raw_files)\n",
    "            scan.roi = None\n",
    "            scan.fix_phase = param_set['fix_phase']\n",
    "            scan.use_fft = param_set['use_fft']\n",
    "\n",
    "            # Time the write operation to local\n",
    "            start_time = time.time()\n",
    "            mbo.imwrite(\n",
    "                scan,\n",
    "                test_output,\n",
    "                ext=file_format,\n",
    "                num_frames=TEST_FRAMES,\n",
    "                planes=TEST_PLANES,\n",
    "                overwrite=True,\n",
    "                register_z=param_set['register_z']\n",
    "            )\n",
    "            elapsed_time = time.time() - start_time\n",
    "\n",
    "            # Get output size\n",
    "            output_size = get_directory_size(test_output)\n",
    "\n",
    "            # Calculate throughput\n",
    "            throughput = output_size / elapsed_time if elapsed_time > 0 else 0\n",
    "\n",
    "            results_network_to_local.append({\n",
    "                'scenario': 'Network → Local',\n",
    "                'params': param_name,\n",
    "                'format': file_format,\n",
    "                'time_sec': elapsed_time,\n",
    "                'size_mb': output_size,\n",
    "                'throughput_mb_per_sec': throughput,\n",
    "                'success': True\n",
    "            })\n",
    "\n",
    "            print(f\"  Time: {elapsed_time:.2f}s, Size: {output_size:.2f}MB, Throughput: {throughput:.2f}MB/s\")\n",
    "\n",
    "        except Exception as e:\n",
    "            print(f\"  ERROR: {e}\")\n",
    "            results_network_to_local.append({\n",
    "                'scenario': 'Network → Local',\n",
    "                'params': param_name,\n",
    "                'format': file_format,\n",
    "                'time_sec': None,\n",
    "                'size_mb': None,\n",
    "                'throughput_mb_per_sec': None,\n",
    "                'success': False,\n",
    "                'error': str(e)\n",
    "            })\n",
    "\n",
    "df_net2local = pd.DataFrame(results_network_to_local)\n",
    "print(\"\\n\" + \"=\"*80)\n",
    "print(\"Network → Local Results:\")\n",
    "print(df_net2local[df_net2local['success']])"
   ]
  },
  {
   "cell_type": "markdown",
   "metadata": {},
   "source": [
    "## Benchmark 3: Copy First, Then Local → Local\n",
    "\n",
    "Copy raw files to local storage first, then process locally"
   ]
  },
  {
   "cell_type": "code",
   "execution_count": 7,
   "metadata": {},
   "outputs": [
    {
     "name": "stdout",
     "output_type": "stream",
     "text": [
      "Copying raw files from network to local...\n",
      "Copy completed: 50.54s, 30903.62MB\n",
      "Copy throughput: 611.48MB/s\n",
      "Found 50 TIFF files locally\n",
      "\n",
      "Testing: minimal → .bin\n"
     ]
    },
    {
     "data": {
      "application/vnd.jupyter.widget-view+json": {
       "model_id": "65ef901051f44d61b1d49ea80df418ca",
       "version_major": 2,
       "version_minor": 0
      },
      "text/plain": [
       "Counting frames:   0%|          | 0/50 [00:00<?, ?it/s]"
      ]
     },
     "metadata": {},
     "output_type": "display_data"
    },
    {
     "data": {
      "application/vnd.jupyter.widget-view+json": {
       "model_id": "110a089c87bd4999b38414d52f47fd42",
       "version_major": 2,
       "version_minor": 0
      },
      "text/plain": [
       "Saving data_raw.bin:   0%|          | 0/20 [00:00<?, ?it/s]"
      ]
     },
     "metadata": {},
     "output_type": "display_data"
    },
    {
     "data": {
      "application/vnd.jupyter.widget-view+json": {
       "model_id": "0da27303601d4f8d8f0261afb4c45224",
       "version_major": 2,
       "version_minor": 0
      },
      "text/plain": [
       "Saving data_raw.bin:   0%|          | 0/20 [00:00<?, ?it/s]"
      ]
     },
     "metadata": {},
     "output_type": "display_data"
    },
    {
     "data": {
      "application/vnd.jupyter.widget-view+json": {
       "model_id": "05099bd99bb54e5680c5b199c8f8186a",
       "version_major": 2,
       "version_minor": 0
      },
      "text/plain": [
       "Saving data_raw.bin:   0%|          | 0/20 [00:00<?, ?it/s]"
      ]
     },
     "metadata": {},
     "output_type": "display_data"
    },
    {
     "name": "stdout",
     "output_type": "stream",
     "text": [
      "  Process time: 8.37s, Total time: 58.91s\n",
      "  Size: 1148.50MB, Process throughput: 137.18MB/s\n",
      "\n",
      "Testing: minimal → .tiff\n"
     ]
    },
    {
     "data": {
      "application/vnd.jupyter.widget-view+json": {
       "model_id": "6df13d77f25e446da00d4a5c08670b6b",
       "version_major": 2,
       "version_minor": 0
      },
      "text/plain": [
       "Counting frames:   0%|          | 0/50 [00:00<?, ?it/s]"
      ]
     },
     "metadata": {},
     "output_type": "display_data"
    },
    {
     "data": {
      "application/vnd.jupyter.widget-view+json": {
       "model_id": "b44586a14f5043b6a536ef3839a8cd78",
       "version_major": 2,
       "version_minor": 0
      },
      "text/plain": [
       "Saving plane06_stitched.tiff:   0%|          | 0/20 [00:00<?, ?it/s]"
      ]
     },
     "metadata": {},
     "output_type": "display_data"
    },
    {
     "data": {
      "application/vnd.jupyter.widget-view+json": {
       "model_id": "add66f93b8a34097a8801f47dd2afa25",
       "version_major": 2,
       "version_minor": 0
      },
      "text/plain": [
       "Saving plane07_stitched.tiff:   0%|          | 0/20 [00:00<?, ?it/s]"
      ]
     },
     "metadata": {},
     "output_type": "display_data"
    },
    {
     "data": {
      "application/vnd.jupyter.widget-view+json": {
       "model_id": "2b65b50b034e477e9a6af8f823259ba2",
       "version_major": 2,
       "version_minor": 0
      },
      "text/plain": [
       "Saving plane08_stitched.tiff:   0%|          | 0/20 [00:00<?, ?it/s]"
      ]
     },
     "metadata": {},
     "output_type": "display_data"
    },
    {
     "name": "stdout",
     "output_type": "stream",
     "text": [
      "  Process time: 2.35s, Total time: 52.89s\n",
      "  Size: 1149.29MB, Process throughput: 488.67MB/s\n",
      "\n",
      "Testing: minimal → .zarr\n"
     ]
    },
    {
     "data": {
      "application/vnd.jupyter.widget-view+json": {
       "model_id": "3ac65df3b25d460eb16da67b588d2ed9",
       "version_major": 2,
       "version_minor": 0
      },
      "text/plain": [
       "Counting frames:   0%|          | 0/50 [00:00<?, ?it/s]"
      ]
     },
     "metadata": {},
     "output_type": "display_data"
    },
    {
     "data": {
      "application/vnd.jupyter.widget-view+json": {
       "model_id": "d8e949b8f0c746fdbd1369910995a0c7",
       "version_major": 2,
       "version_minor": 0
      },
      "text/plain": [
       "Saving plane06_stitched.zarr:   0%|          | 0/20 [00:00<?, ?it/s]"
      ]
     },
     "metadata": {},
     "output_type": "display_data"
    },
    {
     "data": {
      "application/vnd.jupyter.widget-view+json": {
       "model_id": "2c294c999e8946b58632b3124c87f44f",
       "version_major": 2,
       "version_minor": 0
      },
      "text/plain": [
       "Saving plane07_stitched.zarr:   0%|          | 0/20 [00:00<?, ?it/s]"
      ]
     },
     "metadata": {},
     "output_type": "display_data"
    },
    {
     "data": {
      "application/vnd.jupyter.widget-view+json": {
       "model_id": "fb830c0403634bc6916195e46a029fe6",
       "version_major": 2,
       "version_minor": 0
      },
      "text/plain": [
       "Saving plane08_stitched.zarr:   0%|          | 0/20 [00:00<?, ?it/s]"
      ]
     },
     "metadata": {},
     "output_type": "display_data"
    },
    {
     "name": "stdout",
     "output_type": "stream",
     "text": [
      "  Process time: 8.12s, Total time: 58.66s\n",
      "  Size: 46.32MB, Process throughput: 5.70MB/s\n",
      "\n",
      "Testing: minimal → .h5\n"
     ]
    },
    {
     "data": {
      "application/vnd.jupyter.widget-view+json": {
       "model_id": "04856ab061804497bab803eeb53e027c",
       "version_major": 2,
       "version_minor": 0
      },
      "text/plain": [
       "Counting frames:   0%|          | 0/50 [00:00<?, ?it/s]"
      ]
     },
     "metadata": {},
     "output_type": "display_data"
    },
    {
     "data": {
      "application/vnd.jupyter.widget-view+json": {
       "model_id": "98a799fdebb544a9a404d410eca6d72f",
       "version_major": 2,
       "version_minor": 0
      },
      "text/plain": [
       "Saving plane06_stitched.h5:   0%|          | 0/20 [00:00<?, ?it/s]"
      ]
     },
     "metadata": {},
     "output_type": "display_data"
    },
    {
     "data": {
      "application/vnd.jupyter.widget-view+json": {
       "model_id": "2f770aa675094f6f949222d9a4666237",
       "version_major": 2,
       "version_minor": 0
      },
      "text/plain": [
       "Saving plane07_stitched.h5:   0%|          | 0/20 [00:00<?, ?it/s]"
      ]
     },
     "metadata": {},
     "output_type": "display_data"
    },
    {
     "data": {
      "application/vnd.jupyter.widget-view+json": {
       "model_id": "041f7ed2d51d4b8cb3aad40c4fae24ac",
       "version_major": 2,
       "version_minor": 0
      },
      "text/plain": [
       "Saving plane08_stitched.h5:   0%|          | 0/20 [00:00<?, ?it/s]"
      ]
     },
     "metadata": {},
     "output_type": "display_data"
    },
    {
     "name": "stdout",
     "output_type": "stream",
     "text": [
      "  Process time: 2.25s, Total time: 52.79s\n",
      "  Size: 1148.72MB, Process throughput: 511.19MB/s\n",
      "\n",
      "Testing: phase_only → .bin\n"
     ]
    },
    {
     "data": {
      "application/vnd.jupyter.widget-view+json": {
       "model_id": "a2a18e84700e433982e987f9203cd4c8",
       "version_major": 2,
       "version_minor": 0
      },
      "text/plain": [
       "Counting frames:   0%|          | 0/50 [00:00<?, ?it/s]"
      ]
     },
     "metadata": {},
     "output_type": "display_data"
    },
    {
     "data": {
      "application/vnd.jupyter.widget-view+json": {
       "model_id": "234aa515b8a44f548e99374041c42d9e",
       "version_major": 2,
       "version_minor": 0
      },
      "text/plain": [
       "Saving data_raw.bin:   0%|          | 0/20 [00:00<?, ?it/s]"
      ]
     },
     "metadata": {},
     "output_type": "display_data"
    },
    {
     "data": {
      "application/vnd.jupyter.widget-view+json": {
       "model_id": "ca8383e3040d404eb64d1749aa235c1f",
       "version_major": 2,
       "version_minor": 0
      },
      "text/plain": [
       "Saving data_raw.bin:   0%|          | 0/20 [00:00<?, ?it/s]"
      ]
     },
     "metadata": {},
     "output_type": "display_data"
    },
    {
     "data": {
      "application/vnd.jupyter.widget-view+json": {
       "model_id": "262340e990214d4d97975be42a2ec4a2",
       "version_major": 2,
       "version_minor": 0
      },
      "text/plain": [
       "Saving data_raw.bin:   0%|          | 0/20 [00:00<?, ?it/s]"
      ]
     },
     "metadata": {},
     "output_type": "display_data"
    },
    {
     "name": "stdout",
     "output_type": "stream",
     "text": [
      "  Process time: 5.03s, Total time: 55.57s\n",
      "  Size: 1148.50MB, Process throughput: 228.11MB/s\n",
      "\n",
      "Testing: phase_only → .tiff\n"
     ]
    },
    {
     "data": {
      "application/vnd.jupyter.widget-view+json": {
       "model_id": "6fb1d3e31b3649a9921a0a742439dbd6",
       "version_major": 2,
       "version_minor": 0
      },
      "text/plain": [
       "Counting frames:   0%|          | 0/50 [00:00<?, ?it/s]"
      ]
     },
     "metadata": {},
     "output_type": "display_data"
    },
    {
     "data": {
      "application/vnd.jupyter.widget-view+json": {
       "model_id": "73acd8bc68d04d469f49dfe62527e5d6",
       "version_major": 2,
       "version_minor": 0
      },
      "text/plain": [
       "Saving plane06_stitched.tiff:   0%|          | 0/20 [00:00<?, ?it/s]"
      ]
     },
     "metadata": {},
     "output_type": "display_data"
    },
    {
     "data": {
      "application/vnd.jupyter.widget-view+json": {
       "model_id": "e0c19f0de4e543949caf8ef70fcd07b9",
       "version_major": 2,
       "version_minor": 0
      },
      "text/plain": [
       "Saving plane07_stitched.tiff:   0%|          | 0/20 [00:00<?, ?it/s]"
      ]
     },
     "metadata": {},
     "output_type": "display_data"
    },
    {
     "data": {
      "application/vnd.jupyter.widget-view+json": {
       "model_id": "1eaa13bfb97e499cb154397236cb51ad",
       "version_major": 2,
       "version_minor": 0
      },
      "text/plain": [
       "Saving plane08_stitched.tiff:   0%|          | 0/20 [00:00<?, ?it/s]"
      ]
     },
     "metadata": {},
     "output_type": "display_data"
    },
    {
     "name": "stdout",
     "output_type": "stream",
     "text": [
      "  Process time: 3.10s, Total time: 53.64s\n",
      "  Size: 1149.29MB, Process throughput: 370.50MB/s\n",
      "\n",
      "Testing: phase_only → .zarr\n"
     ]
    },
    {
     "data": {
      "application/vnd.jupyter.widget-view+json": {
       "model_id": "6fe69cb80b394adc832d25fe351e6cde",
       "version_major": 2,
       "version_minor": 0
      },
      "text/plain": [
       "Counting frames:   0%|          | 0/50 [00:00<?, ?it/s]"
      ]
     },
     "metadata": {},
     "output_type": "display_data"
    },
    {
     "data": {
      "application/vnd.jupyter.widget-view+json": {
       "model_id": "e6f2deeb20e440dba57adcef309a904d",
       "version_major": 2,
       "version_minor": 0
      },
      "text/plain": [
       "Saving plane06_stitched.zarr:   0%|          | 0/20 [00:00<?, ?it/s]"
      ]
     },
     "metadata": {},
     "output_type": "display_data"
    },
    {
     "data": {
      "application/vnd.jupyter.widget-view+json": {
       "model_id": "a4d01e4c4ee4423dbb6afadc882f45f6",
       "version_major": 2,
       "version_minor": 0
      },
      "text/plain": [
       "Saving plane07_stitched.zarr:   0%|          | 0/20 [00:00<?, ?it/s]"
      ]
     },
     "metadata": {},
     "output_type": "display_data"
    },
    {
     "data": {
      "application/vnd.jupyter.widget-view+json": {
       "model_id": "62a2891cb16442f5b974b2390f4a1bc3",
       "version_major": 2,
       "version_minor": 0
      },
      "text/plain": [
       "Saving plane08_stitched.zarr:   0%|          | 0/20 [00:00<?, ?it/s]"
      ]
     },
     "metadata": {},
     "output_type": "display_data"
    },
    {
     "name": "stdout",
     "output_type": "stream",
     "text": [
      "  Process time: 8.90s, Total time: 59.44s\n",
      "  Size: 46.32MB, Process throughput: 5.20MB/s\n",
      "\n",
      "Testing: phase_only → .h5\n"
     ]
    },
    {
     "data": {
      "application/vnd.jupyter.widget-view+json": {
       "model_id": "a17737e17d4c4afe819a8f9c6c3722e5",
       "version_major": 2,
       "version_minor": 0
      },
      "text/plain": [
       "Counting frames:   0%|          | 0/50 [00:00<?, ?it/s]"
      ]
     },
     "metadata": {},
     "output_type": "display_data"
    },
    {
     "data": {
      "application/vnd.jupyter.widget-view+json": {
       "model_id": "b1155bb160974b9987828eccfb1e7bfa",
       "version_major": 2,
       "version_minor": 0
      },
      "text/plain": [
       "Saving plane06_stitched.h5:   0%|          | 0/20 [00:00<?, ?it/s]"
      ]
     },
     "metadata": {},
     "output_type": "display_data"
    },
    {
     "data": {
      "application/vnd.jupyter.widget-view+json": {
       "model_id": "dbf2c904cc5b4bf4bf0a8794f60957ff",
       "version_major": 2,
       "version_minor": 0
      },
      "text/plain": [
       "Saving plane07_stitched.h5:   0%|          | 0/20 [00:00<?, ?it/s]"
      ]
     },
     "metadata": {},
     "output_type": "display_data"
    },
    {
     "data": {
      "application/vnd.jupyter.widget-view+json": {
       "model_id": "51f551a9cebc4965a9f71462b2017fd7",
       "version_major": 2,
       "version_minor": 0
      },
      "text/plain": [
       "Saving plane08_stitched.h5:   0%|          | 0/20 [00:00<?, ?it/s]"
      ]
     },
     "metadata": {},
     "output_type": "display_data"
    },
    {
     "name": "stdout",
     "output_type": "stream",
     "text": [
      "  Process time: 3.03s, Total time: 53.57s\n",
      "  Size: 1148.72MB, Process throughput: 378.78MB/s\n",
      "\n",
      "Testing: phase_fft → .bin\n"
     ]
    },
    {
     "data": {
      "application/vnd.jupyter.widget-view+json": {
       "model_id": "b3ff674dc1f349b1925c57fb3e84dfb8",
       "version_major": 2,
       "version_minor": 0
      },
      "text/plain": [
       "Counting frames:   0%|          | 0/50 [00:00<?, ?it/s]"
      ]
     },
     "metadata": {},
     "output_type": "display_data"
    },
    {
     "data": {
      "application/vnd.jupyter.widget-view+json": {
       "model_id": "e0772b992730460085af1d363a828e99",
       "version_major": 2,
       "version_minor": 0
      },
      "text/plain": [
       "Saving data_raw.bin:   0%|          | 0/20 [00:00<?, ?it/s]"
      ]
     },
     "metadata": {},
     "output_type": "display_data"
    },
    {
     "data": {
      "application/vnd.jupyter.widget-view+json": {
       "model_id": "85af6fa428f44badb8e043c886f84654",
       "version_major": 2,
       "version_minor": 0
      },
      "text/plain": [
       "Saving data_raw.bin:   0%|          | 0/20 [00:00<?, ?it/s]"
      ]
     },
     "metadata": {},
     "output_type": "display_data"
    },
    {
     "data": {
      "application/vnd.jupyter.widget-view+json": {
       "model_id": "98c8e5190c124a478fa2c824add6fb46",
       "version_major": 2,
       "version_minor": 0
      },
      "text/plain": [
       "Saving data_raw.bin:   0%|          | 0/20 [00:00<?, ?it/s]"
      ]
     },
     "metadata": {},
     "output_type": "display_data"
    },
    {
     "name": "stdout",
     "output_type": "stream",
     "text": [
      "  Process time: 36.13s, Total time: 86.67s\n",
      "  Size: 1148.50MB, Process throughput: 31.78MB/s\n",
      "\n",
      "Testing: phase_fft → .tiff\n"
     ]
    },
    {
     "data": {
      "application/vnd.jupyter.widget-view+json": {
       "model_id": "78b37fdeb47f499ebb094aaabdda89f1",
       "version_major": 2,
       "version_minor": 0
      },
      "text/plain": [
       "Counting frames:   0%|          | 0/50 [00:00<?, ?it/s]"
      ]
     },
     "metadata": {},
     "output_type": "display_data"
    },
    {
     "data": {
      "application/vnd.jupyter.widget-view+json": {
       "model_id": "eac21a95adba4618b21d4f062e7b1228",
       "version_major": 2,
       "version_minor": 0
      },
      "text/plain": [
       "Saving plane06_stitched.tiff:   0%|          | 0/20 [00:00<?, ?it/s]"
      ]
     },
     "metadata": {},
     "output_type": "display_data"
    },
    {
     "data": {
      "application/vnd.jupyter.widget-view+json": {
       "model_id": "292cc76a92a74bb78a2bfddd9b175ff5",
       "version_major": 2,
       "version_minor": 0
      },
      "text/plain": [
       "Saving plane07_stitched.tiff:   0%|          | 0/20 [00:00<?, ?it/s]"
      ]
     },
     "metadata": {},
     "output_type": "display_data"
    },
    {
     "data": {
      "application/vnd.jupyter.widget-view+json": {
       "model_id": "6e7f9adafe7e4ffc82966386a014a31f",
       "version_major": 2,
       "version_minor": 0
      },
      "text/plain": [
       "Saving plane08_stitched.tiff:   0%|          | 0/20 [00:00<?, ?it/s]"
      ]
     },
     "metadata": {},
     "output_type": "display_data"
    },
    {
     "name": "stdout",
     "output_type": "stream",
     "text": [
      "  Process time: 32.23s, Total time: 82.77s\n",
      "  Size: 1149.29MB, Process throughput: 35.66MB/s\n",
      "\n",
      "Testing: phase_fft → .zarr\n"
     ]
    },
    {
     "data": {
      "application/vnd.jupyter.widget-view+json": {
       "model_id": "e3246190c24141e5aa98c58660057273",
       "version_major": 2,
       "version_minor": 0
      },
      "text/plain": [
       "Counting frames:   0%|          | 0/50 [00:00<?, ?it/s]"
      ]
     },
     "metadata": {},
     "output_type": "display_data"
    },
    {
     "data": {
      "application/vnd.jupyter.widget-view+json": {
       "model_id": "96b13ec2c3544877b0a8f3c15f29d290",
       "version_major": 2,
       "version_minor": 0
      },
      "text/plain": [
       "Saving plane06_stitched.zarr:   0%|          | 0/20 [00:00<?, ?it/s]"
      ]
     },
     "metadata": {},
     "output_type": "display_data"
    },
    {
     "data": {
      "application/vnd.jupyter.widget-view+json": {
       "model_id": "2d91fe83b4464a948f98144821d7e3a9",
       "version_major": 2,
       "version_minor": 0
      },
      "text/plain": [
       "Saving plane07_stitched.zarr:   0%|          | 0/20 [00:00<?, ?it/s]"
      ]
     },
     "metadata": {},
     "output_type": "display_data"
    },
    {
     "data": {
      "application/vnd.jupyter.widget-view+json": {
       "model_id": "ceb85e9a8ef344b78459fb3203f45889",
       "version_major": 2,
       "version_minor": 0
      },
      "text/plain": [
       "Saving plane08_stitched.zarr:   0%|          | 0/20 [00:00<?, ?it/s]"
      ]
     },
     "metadata": {},
     "output_type": "display_data"
    },
    {
     "name": "stdout",
     "output_type": "stream",
     "text": [
      "  Process time: 38.08s, Total time: 88.62s\n",
      "  Size: 46.46MB, Process throughput: 1.22MB/s\n",
      "\n",
      "Testing: phase_fft → .h5\n"
     ]
    },
    {
     "data": {
      "application/vnd.jupyter.widget-view+json": {
       "model_id": "8f0a9fc542eb4fac947251e6212fc3c1",
       "version_major": 2,
       "version_minor": 0
      },
      "text/plain": [
       "Counting frames:   0%|          | 0/50 [00:00<?, ?it/s]"
      ]
     },
     "metadata": {},
     "output_type": "display_data"
    },
    {
     "data": {
      "application/vnd.jupyter.widget-view+json": {
       "model_id": "c7f2c5cfeb7d4c569ee0d8655d6cac8f",
       "version_major": 2,
       "version_minor": 0
      },
      "text/plain": [
       "Saving plane06_stitched.h5:   0%|          | 0/20 [00:00<?, ?it/s]"
      ]
     },
     "metadata": {},
     "output_type": "display_data"
    },
    {
     "data": {
      "application/vnd.jupyter.widget-view+json": {
       "model_id": "121ce01ddb95466ca9077b7eb3fdfd8d",
       "version_major": 2,
       "version_minor": 0
      },
      "text/plain": [
       "Saving plane07_stitched.h5:   0%|          | 0/20 [00:00<?, ?it/s]"
      ]
     },
     "metadata": {},
     "output_type": "display_data"
    },
    {
     "data": {
      "application/vnd.jupyter.widget-view+json": {
       "model_id": "49e35ce61d554785aba694497f6c4d8b",
       "version_major": 2,
       "version_minor": 0
      },
      "text/plain": [
       "Saving plane08_stitched.h5:   0%|          | 0/20 [00:00<?, ?it/s]"
      ]
     },
     "metadata": {},
     "output_type": "display_data"
    },
    {
     "name": "stdout",
     "output_type": "stream",
     "text": [
      "  Process time: 32.18s, Total time: 82.72s\n",
      "  Size: 1148.72MB, Process throughput: 35.70MB/s\n",
      "\n",
      "Testing: full → .bin\n"
     ]
    },
    {
     "data": {
      "application/vnd.jupyter.widget-view+json": {
       "model_id": "ca480d74043b450b9dc93fd5e20fd9b0",
       "version_major": 2,
       "version_minor": 0
      },
      "text/plain": [
       "Counting frames:   0%|          | 0/50 [00:00<?, ?it/s]"
      ]
     },
     "metadata": {},
     "output_type": "display_data"
    },
    {
     "name": "stdout",
     "output_type": "stream",
     "text": [
      "    Loaded file into shared memory in 0.70 sec\n",
      "    Workers completed in 1.86 sec\n",
      "    Total time: 2.55 sec\n"
     ]
    },
    {
     "data": {
      "application/vnd.jupyter.widget-view+json": {
       "model_id": "1019425669c94b4ea2b17f545643feb6",
       "version_major": 2,
       "version_minor": 0
      },
      "text/plain": [
       "Saving data_raw.bin:   0%|          | 0/20 [00:00<?, ?it/s]"
      ]
     },
     "metadata": {},
     "output_type": "display_data"
    },
    {
     "data": {
      "application/vnd.jupyter.widget-view+json": {
       "model_id": "ec42618b30fc4df2aa76373f64a70d3d",
       "version_major": 2,
       "version_minor": 0
      },
      "text/plain": [
       "Saving data_raw.bin:   0%|          | 0/20 [00:00<?, ?it/s]"
      ]
     },
     "metadata": {},
     "output_type": "display_data"
    },
    {
     "data": {
      "application/vnd.jupyter.widget-view+json": {
       "model_id": "9ab9bb22475d437599744c1301a7ecec",
       "version_major": 2,
       "version_minor": 0
      },
      "text/plain": [
       "Saving data_raw.bin:   0%|          | 0/20 [00:00<?, ?it/s]"
      ]
     },
     "metadata": {},
     "output_type": "display_data"
    },
    {
     "name": "stdout",
     "output_type": "stream",
     "text": [
      "  Process time: 53.36s, Total time: 103.90s\n",
      "  Size: 3144.29MB, Process throughput: 58.92MB/s\n",
      "\n",
      "Testing: full → .tiff\n"
     ]
    },
    {
     "data": {
      "application/vnd.jupyter.widget-view+json": {
       "model_id": "9b48ffde0c8448aba40a494ee2c0c712",
       "version_major": 2,
       "version_minor": 0
      },
      "text/plain": [
       "Counting frames:   0%|          | 0/50 [00:00<?, ?it/s]"
      ]
     },
     "metadata": {},
     "output_type": "display_data"
    },
    {
     "name": "stdout",
     "output_type": "stream",
     "text": [
      "    Loaded file into shared memory in 0.46 sec\n",
      "    Workers completed in 1.59 sec\n",
      "    Total time: 2.04 sec\n"
     ]
    },
    {
     "data": {
      "application/vnd.jupyter.widget-view+json": {
       "model_id": "79a5066045d347fe84671dd2a1e012a7",
       "version_major": 2,
       "version_minor": 0
      },
      "text/plain": [
       "Saving plane06_stitched.tiff:   0%|          | 0/20 [00:00<?, ?it/s]"
      ]
     },
     "metadata": {},
     "output_type": "display_data"
    },
    {
     "data": {
      "application/vnd.jupyter.widget-view+json": {
       "model_id": "248e67952c574a608a9992b557c6075c",
       "version_major": 2,
       "version_minor": 0
      },
      "text/plain": [
       "Saving plane07_stitched.tiff:   0%|          | 0/20 [00:00<?, ?it/s]"
      ]
     },
     "metadata": {},
     "output_type": "display_data"
    },
    {
     "data": {
      "application/vnd.jupyter.widget-view+json": {
       "model_id": "61f9043358f9491f972075931e37e9f2",
       "version_major": 2,
       "version_minor": 0
      },
      "text/plain": [
       "Saving plane08_stitched.tiff:   0%|          | 0/20 [00:00<?, ?it/s]"
      ]
     },
     "metadata": {},
     "output_type": "display_data"
    },
    {
     "name": "stdout",
     "output_type": "stream",
     "text": [
      "  Process time: 52.51s, Total time: 103.05s\n",
      "  Size: 3445.01MB, Process throughput: 65.60MB/s\n",
      "\n",
      "Testing: full → .zarr\n"
     ]
    },
    {
     "data": {
      "application/vnd.jupyter.widget-view+json": {
       "model_id": "4bb55d027c134d5a90c15d35c1800670",
       "version_major": 2,
       "version_minor": 0
      },
      "text/plain": [
       "Counting frames:   0%|          | 0/50 [00:00<?, ?it/s]"
      ]
     },
     "metadata": {},
     "output_type": "display_data"
    },
    {
     "name": "stdout",
     "output_type": "stream",
     "text": [
      "    Loaded file into shared memory in 0.48 sec\n",
      "    Workers completed in 1.54 sec\n",
      "    Total time: 2.02 sec\n"
     ]
    },
    {
     "data": {
      "application/vnd.jupyter.widget-view+json": {
       "model_id": "ebe9696f04c24935b0dff87b5b8f5f7a",
       "version_major": 2,
       "version_minor": 0
      },
      "text/plain": [
       "Saving plane06_stitched.zarr:   0%|          | 0/20 [00:00<?, ?it/s]"
      ]
     },
     "metadata": {},
     "output_type": "display_data"
    },
    {
     "data": {
      "application/vnd.jupyter.widget-view+json": {
       "model_id": "8e60bcf8c3a64f5aab23c45ea20f5ccb",
       "version_major": 2,
       "version_minor": 0
      },
      "text/plain": [
       "Saving plane07_stitched.zarr:   0%|          | 0/20 [00:00<?, ?it/s]"
      ]
     },
     "metadata": {},
     "output_type": "display_data"
    },
    {
     "data": {
      "application/vnd.jupyter.widget-view+json": {
       "model_id": "6d61d16cc1f54e53bdca3b41013f05e5",
       "version_major": 2,
       "version_minor": 0
      },
      "text/plain": [
       "Saving plane08_stitched.zarr:   0%|          | 0/20 [00:00<?, ?it/s]"
      ]
     },
     "metadata": {},
     "output_type": "display_data"
    },
    {
     "name": "stdout",
     "output_type": "stream",
     "text": [
      "  Process time: 58.29s, Total time: 108.83s\n",
      "  Size: 2042.33MB, Process throughput: 35.04MB/s\n",
      "\n",
      "Testing: full → .h5\n"
     ]
    },
    {
     "data": {
      "application/vnd.jupyter.widget-view+json": {
       "model_id": "9464ff1d76dd4a969fe1c8e54339812d",
       "version_major": 2,
       "version_minor": 0
      },
      "text/plain": [
       "Counting frames:   0%|          | 0/50 [00:00<?, ?it/s]"
      ]
     },
     "metadata": {},
     "output_type": "display_data"
    },
    {
     "name": "stdout",
     "output_type": "stream",
     "text": [
      "    Loaded file into shared memory in 0.49 sec\n",
      "    Workers completed in 1.57 sec\n",
      "    Total time: 2.06 sec\n"
     ]
    },
    {
     "data": {
      "application/vnd.jupyter.widget-view+json": {
       "model_id": "1cc6f8621e4045838af402d1416fe223",
       "version_major": 2,
       "version_minor": 0
      },
      "text/plain": [
       "Saving plane06_stitched.h5:   0%|          | 0/20 [00:00<?, ?it/s]"
      ]
     },
     "metadata": {},
     "output_type": "display_data"
    },
    {
     "data": {
      "application/vnd.jupyter.widget-view+json": {
       "model_id": "3f13abd0b0004fd49ca74fe418005fdc",
       "version_major": 2,
       "version_minor": 0
      },
      "text/plain": [
       "Saving plane07_stitched.h5:   0%|          | 0/20 [00:00<?, ?it/s]"
      ]
     },
     "metadata": {},
     "output_type": "display_data"
    },
    {
     "data": {
      "application/vnd.jupyter.widget-view+json": {
       "model_id": "6ab5ca5e0d4c4a9dbf74c77edcb2f569",
       "version_major": 2,
       "version_minor": 0
      },
      "text/plain": [
       "Saving plane08_stitched.h5:   0%|          | 0/20 [00:00<?, ?it/s]"
      ]
     },
     "metadata": {},
     "output_type": "display_data"
    },
    {
     "name": "stdout",
     "output_type": "stream",
     "text": [
      "  Process time: 52.50s, Total time: 103.04s\n",
      "  Size: 3444.43MB, Process throughput: 65.61MB/s\n",
      "\n",
      "================================================================================\n",
      "Copy + Local → Local Results:\n",
      "                scenario      params format  copy_time_sec  process_time_sec  \\\n",
      "0   Copy + Local → Local     minimal   .bin      50.539468          8.372038   \n",
      "1   Copy + Local → Local     minimal  .tiff      50.539468          2.351860   \n",
      "2   Copy + Local → Local     minimal  .zarr      50.539468          8.124869   \n",
      "3   Copy + Local → Local     minimal    .h5      50.539468          2.247158   \n",
      "4   Copy + Local → Local  phase_only   .bin      50.539468          5.034830   \n",
      "5   Copy + Local → Local  phase_only  .tiff      50.539468          3.101998   \n",
      "6   Copy + Local → Local  phase_only  .zarr      50.539468          8.901761   \n",
      "7   Copy + Local → Local  phase_only    .h5      50.539468          3.032660   \n",
      "8   Copy + Local → Local   phase_fft   .bin      50.539468         36.134152   \n",
      "9   Copy + Local → Local   phase_fft  .tiff      50.539468         32.230876   \n",
      "10  Copy + Local → Local   phase_fft  .zarr      50.539468         38.081483   \n",
      "11  Copy + Local → Local   phase_fft    .h5      50.539468         32.180858   \n",
      "12  Copy + Local → Local        full   .bin      50.539468         53.362717   \n",
      "13  Copy + Local → Local        full  .tiff      50.539468         52.512748   \n",
      "14  Copy + Local → Local        full  .zarr      50.539468         58.289582   \n",
      "15  Copy + Local → Local        full    .h5      50.539468         52.501709   \n",
      "\n",
      "    total_time_sec      size_mb  process_throughput_mb_per_sec  \\\n",
      "0        58.911506  1148.501641                     137.183040   \n",
      "1        52.891328  1149.293781                     488.674492   \n",
      "2        58.664337    46.321724                       5.701227   \n",
      "3        52.786626  1148.716782                     511.186520   \n",
      "4        55.574298  1148.501767                     228.111336   \n",
      "5        53.641466  1149.293781                     370.501153   \n",
      "6        59.441229    46.322189                       5.203711   \n",
      "7        53.572128  1148.716782                     378.781950   \n",
      "8        86.673620  1148.501761                      31.784384   \n",
      "9        82.770344  1149.293781                      35.658161   \n",
      "10       88.620951    46.462678                       1.220086   \n",
      "11       82.720326  1148.716782                      35.695654   \n",
      "12      103.902185  3144.291378                      58.923000   \n",
      "13      103.052216  3445.010370                      65.603315   \n",
      "14      108.829050  2042.330235                      35.037654   \n",
      "15      103.041177  3444.433256                      65.606117   \n",
      "\n",
      "    total_throughput_mb_per_sec  success  \n",
      "0                     19.495371     True  \n",
      "1                     21.729343     True  \n",
      "2                      0.789606     True  \n",
      "3                     21.761512     True  \n",
      "4                     20.666060     True  \n",
      "5                     21.425473     True  \n",
      "6                      0.779294     True  \n",
      "7                     21.442433     True  \n",
      "8                     13.250880     True  \n",
      "9                     13.885333     True  \n",
      "10                     0.524285     True  \n",
      "11                    13.886754     True  \n",
      "12                    30.262033     True  \n",
      "13                    33.429755     True  \n",
      "14                    18.766407     True  \n",
      "15                    33.427736     True  \n"
     ]
    }
   ],
   "source": [
    "results_copy_then_local = []\n",
    "\n",
    "# First, copy raw files to local (only once)\n",
    "print(\"Copying raw files from network to local...\")\n",
    "copy_time, copy_size = copy_files_timed(RAW_TIFFS_NETWORK, RAW_TIFFS_LOCAL)\n",
    "print(f\"Copy completed: {copy_time:.2f}s, {copy_size:.2f}MB\")\n",
    "print(f\"Copy throughput: {copy_size / copy_time:.2f}MB/s\")\n",
    "\n",
    "# Get local files\n",
    "local_files = mbo.get_files(RAW_TIFFS_LOCAL)\n",
    "print(f\"Found {len(local_files)} TIFF files locally\")\n",
    "\n",
    "for param_name, param_set in PARAM_SETS.items():\n",
    "    for file_format in FILE_FORMATS:\n",
    "        print(f\"\\nTesting: {param_name} → {file_format}\")\n",
    "\n",
    "        # Clean output directory\n",
    "        test_output = OUTPUT_LOCAL / f\"local2local_{param_name}\"\n",
    "        cleanup_output(test_output)\n",
    "\n",
    "        try:\n",
    "            # Load scan from local\n",
    "            scan = mbo.imread(local_files)\n",
    "            scan.roi = None\n",
    "            scan.fix_phase = param_set['fix_phase']\n",
    "            scan.use_fft = param_set['use_fft']\n",
    "\n",
    "            # Time the write operation\n",
    "            start_time = time.time()\n",
    "            mbo.imwrite(\n",
    "                scan,\n",
    "                test_output,\n",
    "                ext=file_format,\n",
    "                num_frames=TEST_FRAMES,\n",
    "                planes=TEST_PLANES,\n",
    "                overwrite=True,\n",
    "                register_z=param_set['register_z']\n",
    "            )\n",
    "            elapsed_time = time.time() - start_time\n",
    "\n",
    "            # Get output size\n",
    "            output_size = get_directory_size(test_output)\n",
    "\n",
    "            # Calculate throughput (just for processing)\n",
    "            throughput = output_size / elapsed_time if elapsed_time > 0 else 0\n",
    "\n",
    "            # Total time includes copy time\n",
    "            total_time = copy_time + elapsed_time\n",
    "            total_throughput = output_size / total_time if total_time > 0 else 0\n",
    "\n",
    "            results_copy_then_local.append({\n",
    "                'scenario': 'Copy + Local → Local',\n",
    "                'params': param_name,\n",
    "                'format': file_format,\n",
    "                'copy_time_sec': copy_time,\n",
    "                'process_time_sec': elapsed_time,\n",
    "                'total_time_sec': total_time,\n",
    "                'size_mb': output_size,\n",
    "                'process_throughput_mb_per_sec': throughput,\n",
    "                'total_throughput_mb_per_sec': total_throughput,\n",
    "                'success': True\n",
    "            })\n",
    "\n",
    "            print(f\"  Process time: {elapsed_time:.2f}s, Total time: {total_time:.2f}s\")\n",
    "            print(f\"  Size: {output_size:.2f}MB, Process throughput: {throughput:.2f}MB/s\")\n",
    "\n",
    "        except Exception as e:\n",
    "            print(f\"  ERROR: {e}\")\n",
    "            results_copy_then_local.append({\n",
    "                'scenario': 'Copy + Local → Local',\n",
    "                'params': param_name,\n",
    "                'format': file_format,\n",
    "                'copy_time_sec': copy_time,\n",
    "                'process_time_sec': None,\n",
    "                'total_time_sec': None,\n",
    "                'size_mb': None,\n",
    "                'process_throughput_mb_per_sec': None,\n",
    "                'total_throughput_mb_per_sec': None,\n",
    "                'success': False,\n",
    "                'error': str(e)\n",
    "            })\n",
    "\n",
    "df_copy_local = pd.DataFrame(results_copy_then_local)\n",
    "print(\"\\n\" + \"=\"*80)\n",
    "print(\"Copy + Local → Local Results:\")\n",
    "print(df_copy_local[df_copy_local['success']])"
   ]
  },
  {
   "cell_type": "markdown",
   "metadata": {},
   "source": [
    "## Combined Results Analysis"
   ]
  },
  {
   "cell_type": "code",
   "execution_count": 8,
   "metadata": {},
   "outputs": [
    {
     "name": "stdout",
     "output_type": "stream",
     "text": [
      "Results saved to: D:\\demo\\staging\\benchmark_results_20251029_173622.csv\n",
      "\n",
      "================================================================================\n",
      "SUMMARY STATISTICS\n",
      "================================================================================\n",
      "                           time_sec                       \\\n",
      "                               mean    std   min     max   \n",
      "scenario                                                   \n",
      "Local → Local (after copy)    24.78  21.66  2.25   58.29   \n",
      "Network → Local               26.50  22.23  3.39   60.92   \n",
      "Network → Network             42.98  33.82  6.61  114.86   \n",
      "\n",
      "                           throughput_mb_per_sec                        \n",
      "                                            mean     std   min     max  \n",
      "scenario                                                                \n",
      "Local → Local (after copy)                153.43  181.11  1.22  511.19  \n",
      "Network → Local                           107.10  106.86  1.15  339.09  \n",
      "Network → Network                          71.13   63.22  0.50  173.71  \n"
     ]
    }
   ],
   "source": [
    "# Combine all results\n",
    "all_results = []\n",
    "\n",
    "# Add network to network\n",
    "for r in results_network_to_network:\n",
    "    if r['success']:\n",
    "        all_results.append(r)\n",
    "\n",
    "# Add network to local\n",
    "for r in results_network_to_local:\n",
    "    if r['success']:\n",
    "        all_results.append(r)\n",
    "\n",
    "# Add copy + local (process time only for fair comparison)\n",
    "for r in results_copy_then_local:\n",
    "    if r['success']:\n",
    "        all_results.append({\n",
    "            'scenario': 'Local → Local (after copy)',\n",
    "            'params': r['params'],\n",
    "            'format': r['format'],\n",
    "            'time_sec': r['process_time_sec'],\n",
    "            'size_mb': r['size_mb'],\n",
    "            'throughput_mb_per_sec': r['process_throughput_mb_per_sec'],\n",
    "            'success': True\n",
    "        })\n",
    "\n",
    "df_all = pd.DataFrame(all_results)\n",
    "\n",
    "# Save results\n",
    "timestamp = datetime.now().strftime(\"%Y%m%d_%H%M%S\")\n",
    "results_file = LOCAL_PATH / f\"benchmark_results_{timestamp}.csv\"\n",
    "df_all.to_csv(results_file, index=False)\n",
    "print(f\"Results saved to: {results_file}\")\n",
    "\n",
    "# Display summary statistics\n",
    "print(\"\\n\" + \"=\"*80)\n",
    "print(\"SUMMARY STATISTICS\")\n",
    "print(\"=\"*80)\n",
    "\n",
    "summary = df_all.groupby('scenario').agg({\n",
    "    'time_sec': ['mean', 'std', 'min', 'max'],\n",
    "    'throughput_mb_per_sec': ['mean', 'std', 'min', 'max']\n",
    "}).round(2)\n",
    "\n",
    "print(summary)"
   ]
  },
  {
   "cell_type": "markdown",
   "metadata": {},
   "source": [
    "## Visualization: Processing Time Comparison"
   ]
  },
  {
   "cell_type": "code",
   "execution_count": 9,
   "metadata": {},
   "outputs": [
    {
     "data": {
      "image/png": "[encoded data removed]",
      "text/plain": [
       "<Figure size 1600x1200 with 4 Axes>"
      ]
     },
     "metadata": {},
     "output_type": "display_data"
    }
   ],
   "source": [
    "fig, axes = plt.subplots(2, 2, figsize=(16, 12))\n",
    "\n",
    "# 1. Time comparison by scenario\n",
    "ax = axes[0, 0]\n",
    "sns.boxplot(data=df_all, x='scenario', y='time_sec', ax=ax)\n",
    "ax.set_title('Processing Time by Scenario', fontsize=14, fontweight='bold')\n",
    "ax.set_ylabel('Time (seconds)', fontweight='bold')\n",
    "ax.set_xlabel('Scenario', fontweight='bold')\n",
    "ax.tick_params(axis='x', rotation=45)\n",
    "ax.grid(True, alpha=0.3)\n",
    "\n",
    "# 2. Throughput comparison by scenario\n",
    "ax = axes[0, 1]\n",
    "sns.boxplot(data=df_all, x='scenario', y='throughput_mb_per_sec', ax=ax)\n",
    "ax.set_title('Throughput by Scenario', fontsize=14, fontweight='bold')\n",
    "ax.set_ylabel('Throughput (MB/s)', fontweight='bold')\n",
    "ax.set_xlabel('Scenario', fontweight='bold')\n",
    "ax.tick_params(axis='x', rotation=45)\n",
    "ax.grid(True, alpha=0.3)\n",
    "\n",
    "# 3. Time by file format\n",
    "ax = axes[1, 0]\n",
    "sns.barplot(data=df_all, x='format', y='time_sec', hue='scenario', ax=ax)\n",
    "ax.set_title('Processing Time by File Format', fontsize=14, fontweight='bold')\n",
    "ax.set_ylabel('Time (seconds)', fontweight='bold')\n",
    "ax.set_xlabel('File Format', fontweight='bold')\n",
    "ax.legend(title='Scenario', bbox_to_anchor=(1.05, 1), loc='upper left')\n",
    "ax.grid(True, alpha=0.3, axis='y')\n",
    "\n",
    "# 4. Time by parameter set\n",
    "ax = axes[1, 1]\n",
    "sns.barplot(data=df_all, x='params', y='time_sec', hue='scenario', ax=ax)\n",
    "ax.set_title('Processing Time by Parameters', fontsize=14, fontweight='bold')\n",
    "ax.set_ylabel('Time (seconds)', fontweight='bold')\n",
    "ax.set_xlabel('Parameter Set', fontweight='bold')\n",
    "ax.legend(title='Scenario', bbox_to_anchor=(1.05, 1), loc='upper left')\n",
    "ax.grid(True, alpha=0.3, axis='y')\n",
    "\n",
    "plt.tight_layout()\n",
    "plt.savefig(LOCAL_PATH / f\"benchmark_plots_{timestamp}.png\", dpi=300, bbox_inches='tight')\n",
    "plt.show()"
   ]
  },
  {
   "cell_type": "markdown",
   "metadata": {},
   "source": [
    "## Speedup Analysis"
   ]
  },
  {
   "cell_type": "code",
   "execution_count": 10,
   "metadata": {},
   "outputs": [
    {
     "name": "stdout",
     "output_type": "stream",
     "text": [
      "\n",
      "================================================================================\n",
      "SPEEDUP ANALYSIS (relative to Network → Network)\n",
      "================================================================================\n",
      "                  scenario  mean_time_sec  speedup  percent_faster\n",
      "Local → Local (after copy)      24.778831 1.734598       73.459811\n",
      "           Network → Local      26.497522 1.622088       62.208803\n",
      "         Network → Network      42.981314 1.000000        0.000000\n"
     ]
    },
    {
     "data": {
      "image/png": "[encoded data removed]",
      "text/plain": [
       "<Figure size 1000x600 with 1 Axes>"
      ]
     },
     "metadata": {},
     "output_type": "display_data"
    }
   ],
   "source": [
    "# Calculate speedup relative to Network → Network baseline\n",
    "baseline = df_all[df_all['scenario'] == 'Network → Network']['time_sec'].mean()\n",
    "\n",
    "speedup_data = []\n",
    "for scenario in df_all['scenario'].unique():\n",
    "    scenario_times = df_all[df_all['scenario'] == scenario]['time_sec']\n",
    "    mean_time = scenario_times.mean()\n",
    "    speedup = baseline / mean_time\n",
    "    percent_faster = (speedup - 1) * 100\n",
    "\n",
    "    speedup_data.append({\n",
    "        'scenario': scenario,\n",
    "        'mean_time_sec': mean_time,\n",
    "        'speedup': speedup,\n",
    "        'percent_faster': percent_faster\n",
    "    })\n",
    "\n",
    "df_speedup = pd.DataFrame(speedup_data).sort_values('speedup', ascending=False)\n",
    "\n",
    "print(\"\\n\" + \"=\"*80)\n",
    "print(\"SPEEDUP ANALYSIS (relative to Network → Network)\")\n",
    "print(\"=\"*80)\n",
    "print(df_speedup.to_string(index=False))\n",
    "\n",
    "# Plot speedup\n",
    "fig, ax = plt.subplots(figsize=(10, 6))\n",
    "bars = ax.bar(df_speedup['scenario'], df_speedup['speedup'],\n",
    "              color=['red' if x < 1 else 'green' for x in df_speedup['speedup']],\n",
    "              alpha=0.7, edgecolor='black')\n",
    "ax.axhline(1, color='black', linestyle='--', linewidth=2, label='Baseline')\n",
    "ax.set_ylabel('Speedup Factor', fontsize=12, fontweight='bold')\n",
    "ax.set_xlabel('Scenario', fontsize=12, fontweight='bold')\n",
    "ax.set_title('Speedup Relative to Network → Network', fontsize=14, fontweight='bold')\n",
    "ax.tick_params(axis='x', rotation=45)\n",
    "ax.grid(True, alpha=0.3, axis='y')\n",
    "ax.legend()\n",
    "\n",
    "# Add value labels on bars\n",
    "for bar, speedup in zip(bars, df_speedup['speedup']):\n",
    "    height = bar.get_height()\n",
    "    ax.text(bar.get_x() + bar.get_width()/2., height,\n",
    "            f'{speedup:.2f}x',\n",
    "            ha='center', va='bottom', fontweight='bold')\n",
    "\n",
    "plt.tight_layout()\n",
    "plt.savefig(LOCAL_PATH / f\"speedup_analysis_{timestamp}.png\", dpi=300, bbox_inches='tight')\n",
    "plt.show()"
   ]
  },
  {
   "cell_type": "markdown",
   "metadata": {},
   "source": [
    "## Recommendations"
   ]
  },
  {
   "cell_type": "code",
   "execution_count": 11,
   "metadata": {},
   "outputs": [
    {
     "name": "stdout",
     "output_type": "stream",
     "text": [
      "\n",
      "================================================================================\n",
      "RECOMMENDATIONS\n",
      "================================================================================\n",
      "\n",
      "1. FASTEST OVERALL CONFIGURATION:\n",
      "   Scenario: Local → Local (after copy)\n",
      "   Format: .h5\n",
      "   Parameters: minimal\n",
      "   Time: 2.25s\n",
      "   Throughput: 511.19MB/s\n",
      "\n",
      "2. HIGHEST THROUGHPUT:\n",
      "   Scenario: Local → Local (after copy)\n",
      "   Format: .h5\n",
      "   Parameters: minimal\n",
      "   Throughput: 511.19MB/s\n",
      "\n",
      "3. BEST FILE FORMATS:\n",
      "   .bin: 5.03s (Local → Local (after copy))\n",
      "   .h5: 2.25s (Local → Local (after copy))\n",
      "   .tiff: 2.35s (Local → Local (after copy))\n",
      "   .zarr: 8.12s (Local → Local (after copy))\n",
      "\n",
      "4. WORKFLOW COMPARISON:\n",
      "   Network → Network: 42.98s (avg)\n",
      "   Network → Local: 26.50s (avg)\n",
      "   Local → Local: 24.78s (avg, excluding copy time)\n",
      "\n",
      "   ✓ Writing to local is 38.4% faster than network\n",
      "\n",
      "5. COPY STRATEGY:\n",
      "   Copy time: 50.54s\n",
      "   Total time (copy + process): 58.91s\n",
      "   ✗ Direct processing is faster for single runs\n"
     ]
    }
   ],
   "source": [
    "# Find best configurations\n",
    "best_overall = df_all.loc[df_all['time_sec'].idxmin()]\n",
    "best_throughput = df_all.loc[df_all['throughput_mb_per_sec'].idxmax()]\n",
    "\n",
    "# Best by file format\n",
    "best_by_format = df_all.groupby('format')['time_sec'].idxmin()\n",
    "best_formats = df_all.loc[best_by_format]\n",
    "\n",
    "print(\"\\n\" + \"=\"*80)\n",
    "print(\"RECOMMENDATIONS\")\n",
    "print(\"=\"*80)\n",
    "\n",
    "print(\"\\n1. FASTEST OVERALL CONFIGURATION:\")\n",
    "print(f\"   Scenario: {best_overall['scenario']}\")\n",
    "print(f\"   Format: {best_overall['format']}\")\n",
    "print(f\"   Parameters: {best_overall['params']}\")\n",
    "print(f\"   Time: {best_overall['time_sec']:.2f}s\")\n",
    "print(f\"   Throughput: {best_overall['throughput_mb_per_sec']:.2f}MB/s\")\n",
    "\n",
    "print(\"\\n2. HIGHEST THROUGHPUT:\")\n",
    "print(f\"   Scenario: {best_throughput['scenario']}\")\n",
    "print(f\"   Format: {best_throughput['format']}\")\n",
    "print(f\"   Parameters: {best_throughput['params']}\")\n",
    "print(f\"   Throughput: {best_throughput['throughput_mb_per_sec']:.2f}MB/s\")\n",
    "\n",
    "print(\"\\n3. BEST FILE FORMATS:\")\n",
    "for _, row in best_formats.iterrows():\n",
    "    print(f\"   {row['format']}: {row['time_sec']:.2f}s ({row['scenario']})\")\n",
    "\n",
    "print(\"\\n4. WORKFLOW COMPARISON:\")\n",
    "net2net_avg = df_all[df_all['scenario'] == 'Network → Network']['time_sec'].mean()\n",
    "net2local_avg = df_all[df_all['scenario'] == 'Network → Local']['time_sec'].mean()\n",
    "local2local_avg = df_all[df_all['scenario'] == 'Local → Local (after copy)']['time_sec'].mean()\n",
    "\n",
    "print(f\"   Network → Network: {net2net_avg:.2f}s (avg)\")\n",
    "print(f\"   Network → Local: {net2local_avg:.2f}s (avg)\")\n",
    "print(f\"   Local → Local: {local2local_avg:.2f}s (avg, excluding copy time)\")\n",
    "\n",
    "if net2local_avg < net2net_avg:\n",
    "    improvement = ((net2net_avg - net2local_avg) / net2net_avg) * 100\n",
    "    print(f\"\\n   ✓ Writing to local is {improvement:.1f}% faster than network\")\n",
    "else:\n",
    "    print(f\"\\n   ✗ Network storage is faster in this configuration\")\n",
    "\n",
    "# Check if copy + process is worth it\n",
    "if len(results_copy_then_local) > 0 and results_copy_then_local[0]['success']:\n",
    "    total_with_copy = results_copy_then_local[0]['total_time_sec']\n",
    "    print(f\"\\n5. COPY STRATEGY:\")\n",
    "    print(f\"   Copy time: {copy_time:.2f}s\")\n",
    "    print(f\"   Total time (copy + process): {total_with_copy:.2f}s\")\n",
    "    if total_with_copy < net2net_avg:\n",
    "        print(f\"   ✓ Copying first is worth it for repeated processing\")\n",
    "    else:\n",
    "        print(f\"   ✗ Direct processing is faster for single runs\")"
   ]
  },
  {
   "cell_type": "markdown",
   "metadata": {},
   "source": [
    "## Cleanup (Optional)\n",
    "\n",
    "Remove benchmark output files to free up space"
   ]
  },
  {
   "cell_type": "code",
   "execution_count": 4,
   "metadata": {},
   "outputs": [
    {
     "name": "stdout",
     "output_type": "stream",
     "text": [
      "Cleanup complete\n"
     ]
    }
   ],
   "source": [
    "# Uncomment to clean up test outputs\n",
    "shutil.rmtree(OUTPUT_NETWORK)\n",
    "shutil.rmtree(OUTPUT_LOCAL)\n",
    "shutil.rmtree(RAW_TIFFS_LOCAL)\n",
    "print(\"Cleanup complete\")"
   ]
  }
 ],
 "metadata": {
  "kernelspec": {
   "display_name": "millerbrainobservatory-github-io",
   "language": "python",
   "name": "python3"
  },
  "language_info": {
   "codemirror_mode": {
    "name": "ipython",
    "version": 3
   },
   "file_extension": ".py",
   "mimetype": "text/x-python",
   "name": "python",
   "nbconvert_exporter": "python",
   "pygments_lexer": "ipython3",
   "version": "3.12.9"
  }
 },
 "nbformat": 4,
 "nbformat_minor": 4
}
